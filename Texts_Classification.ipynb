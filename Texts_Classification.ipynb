{
 "cells": [
  {
   "cell_type": "code",
   "execution_count": 334,
   "metadata": {},
   "outputs": [
    {
     "name": "stdout",
     "output_type": "stream",
     "text": [
      "Requirement already up-to-date: pandas in c:\\anaconda\\lib\\site-packages (0.23.4)\n",
      "Requirement already satisfied, skipping upgrade: python-dateutil>=2.5.0 in c:\\anaconda\\lib\\site-packages (from pandas) (2.7.3)\n",
      "Requirement already satisfied, skipping upgrade: pytz>=2011k in c:\\anaconda\\lib\\site-packages (from pandas) (2018.5)\n",
      "Requirement already satisfied, skipping upgrade: numpy>=1.9.0 in c:\\anaconda\\lib\\site-packages (from pandas) (1.15.4)\n",
      "Requirement already satisfied, skipping upgrade: six>=1.5 in c:\\anaconda\\lib\\site-packages (from python-dateutil>=2.5.0->pandas) (1.11.0)\n",
      "Requirement already up-to-date: scikit-learn in c:\\anaconda\\lib\\site-packages (0.20.2)\n",
      "Requirement already satisfied, skipping upgrade: scipy>=0.13.3 in c:\\anaconda\\lib\\site-packages (from scikit-learn) (1.1.0)\n",
      "Requirement already satisfied, skipping upgrade: numpy>=1.8.2 in c:\\anaconda\\lib\\site-packages (from scikit-learn) (1.15.4)\n",
      "Collecting inflect\n",
      "  Downloading https://files.pythonhosted.org/packages/86/02/e6b11020a9c37d25b4767a1d0af5835629f6e75d6f51553ad07a4c73dc31/inflect-2.1.0-py2.py3-none-any.whl (40kB)\n",
      "Installing collected packages: inflect\n",
      "Successfully installed inflect-2.1.0\n"
     ]
    }
   ],
   "source": [
    "#update libs\n",
    "!pip install --upgrade pandas\n",
    "!pip install --upgrade scikit-learn\n",
    "!pip install --upgrade inflect"
   ]
  },
  {
   "cell_type": "code",
   "execution_count": 335,
   "metadata": {},
   "outputs": [],
   "source": [
    "#import common libs\n",
    "import numpy as np\n",
    "import pandas as pd\n",
    "import scipy.stats as st\n",
    "from matplotlib import pyplot as plt\n",
    "import seaborn as sns\n",
    "\n",
    "#from scipy import interp\n",
    "sns.set(font_scale=1.3)"
   ]
  },
  {
   "cell_type": "code",
   "execution_count": 336,
   "metadata": {},
   "outputs": [],
   "source": [
    "#import special libs\n",
    "from sklearn.impute import SimpleImputer\n",
    "from sklearn.preprocessing import OneHotEncoder, LabelEncoder, Imputer,OrdinalEncoder\n",
    "from sklearn.preprocessing import StandardScaler, MinMaxScaler, RobustScaler\n",
    "from sklearn.preprocessing import PowerTransformer,QuantileTransformer\n",
    "from sklearn.preprocessing import label_binarize,MultiLabelBinarizer\n",
    "from sklearn.pipeline import make_pipeline,Pipeline\n",
    "\n",
    "from sklearn.preprocessing import FunctionTransformer\n",
    "from sklearn.compose import ColumnTransformer\n",
    "\n",
    "from itertools import cycle\n",
    "\n",
    "from sklearn.multiclass import OneVsRestClassifier\n",
    "\n",
    "from sklearn.linear_model import LogisticRegression\n",
    "from sklearn.svm import SVC,LinearSVC\n",
    "from sklearn.naive_bayes import GaussianNB, MultinomialNB, BernoulliNB\n",
    "\n",
    "from sklearn.model_selection import GridSearchCV, StratifiedKFold, train_test_split \n",
    "from sklearn.model_selection import KFold,RandomizedSearchCV, cross_val_score\n",
    "\n",
    "from sklearn.metrics import confusion_matrix, recall_score, brier_score_loss, roc_curve, auc\n",
    "from sklearn.metrics import f1_score, make_scorer, roc_auc_score, precision_score\n",
    "from sklearn.metrics import classification_report\n",
    "\n",
    "from sklearn.decomposition import PCA, TruncatedSVD,IncrementalPCA\n",
    "\n",
    "import glob\n",
    "\n",
    "from sklearn.ensemble import RandomForestClassifier\n",
    "\n",
    "from sklearn.feature_extraction.text import TfidfVectorizer\n",
    "\n",
    "from sklearn.calibration import CalibratedClassifierCV, calibration_curve\n",
    "\n",
    "\n",
    "%matplotlib inline"
   ]
  },
  {
   "cell_type": "code",
   "execution_count": 465,
   "metadata": {},
   "outputs": [
    {
     "name": "stdout",
     "output_type": "stream",
     "text": [
      "[nltk_data] Downloading package punkt to\n",
      "[nltk_data]     C:\\Users\\chief\\AppData\\Roaming\\nltk_data...\n",
      "[nltk_data]   Package punkt is already up-to-date!\n",
      "[nltk_data] Downloading package stopwords to\n",
      "[nltk_data]     C:\\Users\\chief\\AppData\\Roaming\\nltk_data...\n",
      "[nltk_data]   Package stopwords is already up-to-date!\n",
      "[nltk_data] Downloading package wordnet to\n",
      "[nltk_data]     C:\\Users\\chief\\AppData\\Roaming\\nltk_data...\n",
      "[nltk_data]   Unzipping corpora\\wordnet.zip.\n"
     ]
    }
   ],
   "source": [
    "import nltk\n",
    "nltk.download('punkt')\n",
    "nltk.download(\"stopwords\")\n",
    "nltk.download('wordnet')\n",
    "\n",
    "from nltk.corpus import stopwords\n",
    "from nltk import word_tokenize\n",
    "from nltk.stem.porter import PorterStemmer # one more stemmer? or lemmatisation\n",
    "from nltk.stem import WordNetLemmatizer,LancasterStemmer\n",
    "\n",
    "import re\n",
    "import string\n",
    "import inflect\n",
    "\n",
    "seed = 321"
   ]
  },
  {
   "cell_type": "markdown",
   "metadata": {},
   "source": [
    "Загрузим датасет с классифицируемыми текстами."
   ]
  },
  {
   "cell_type": "code",
   "execution_count": 102,
   "metadata": {},
   "outputs": [],
   "source": [
    "from sklearn.datasets import fetch_20newsgroups"
   ]
  },
  {
   "cell_type": "markdown",
   "metadata": {},
   "source": [
    "Итак, задача данной работы:\n",
    "\n"
   ]
  },
  {
   "cell_type": "markdown",
   "metadata": {},
   "source": [
    "#### EDA.\n",
    "\n",
    "Посмотрим на данные, для этого:\n",
    "- скачаем датасет целиком\n",
    "- посмотрим на категории текстов\n",
    "- распределение документов по категориям\n",
    "- посмотрим на примеры данных"
   ]
  },
  {
   "cell_type": "code",
   "execution_count": 513,
   "metadata": {},
   "outputs": [
    {
     "data": {
      "text/plain": [
       "(array([ 0,  1,  2,  3,  4,  5,  6,  7,  8,  9, 10, 11, 12, 13, 14, 15, 16,\n",
       "        17, 18, 19]),\n",
       " array([799, 973, 985, 982, 963, 988, 975, 990, 996, 994, 999, 991, 984,\n",
       "        990, 987, 997, 910, 940, 775, 628], dtype=int64))"
      ]
     },
     "execution_count": 513,
     "metadata": {},
     "output_type": "execute_result"
    }
   ],
   "source": [
    "\n",
    "unique, counts = np.unique(newsgroups_all.target, return_counts=True)\n",
    "unique, counts\n",
    "#pprint(newsgroups_all.data[1])"
   ]
  },
  {
   "cell_type": "code",
   "execution_count": 521,
   "metadata": {},
   "outputs": [
    {
     "data": {
      "text/plain": [
       "799"
      ]
     },
     "execution_count": 521,
     "metadata": {},
     "output_type": "execute_result"
    }
   ],
   "source": [
    "len(newsgroups_all.target[newsgroups_all.target == 0])"
   ]
  },
  {
   "cell_type": "code",
   "execution_count": 522,
   "metadata": {},
   "outputs": [],
   "source": [
    "# print the histogramm with distribution of texts by categorieas and topics"
   ]
  },
  {
   "cell_type": "code",
   "execution_count": 391,
   "metadata": {},
   "outputs": [
    {
     "name": "stdout",
     "output_type": "stream",
     "text": [
      "['alt.atheism',\n",
      " 'comp.graphics',\n",
      " 'comp.os.ms-windows.misc',\n",
      " 'comp.sys.ibm.pc.hardware',\n",
      " 'comp.sys.mac.hardware',\n",
      " 'comp.windows.x',\n",
      " 'misc.forsale',\n",
      " 'rec.autos',\n",
      " 'rec.motorcycles',\n",
      " 'rec.sport.baseball',\n",
      " 'rec.sport.hockey',\n",
      " 'sci.crypt',\n",
      " 'sci.electronics',\n",
      " 'sci.med',\n",
      " 'sci.space',\n",
      " 'soc.religion.christian',\n",
      " 'talk.politics.guns',\n",
      " 'talk.politics.mideast',\n",
      " 'talk.politics.misc',\n",
      " 'talk.religion.misc']\n"
     ]
    }
   ],
   "source": [
    "# здесь shuffle = true, т.к. мы собираемся использовать SGDClassifier; Naive Bayes - они базируются на принципе iid данных \n",
    "#и чтобы не получить смещенную оценку\n",
    "#newsgroups_test = fetch_20newsgroups(subset='test', random_state=seed, shuffle=True, remove = ('headers', 'footers', 'quotes'))\n",
    "#newsgroups_train = fetch_20newsgroups(subset='train', random_state=seed, shuffle=True, remove = ('headers', 'footers', 'quotes'))\n",
    "newsgroups_all = fetch_20newsgroups(subset='all', random_state=seed, shuffle=True, remove = ('headers', 'footers', 'quotes'))\n",
    "\n",
    "from pprint import pprint\n",
    "pprint(list(newsgroups_all.target_names))"
   ]
  },
  {
   "cell_type": "code",
   "execution_count": 256,
   "metadata": {},
   "outputs": [
    {
     "name": "stdout",
     "output_type": "stream",
     "text": [
      "18846 documents\n",
      "20 categories\n"
     ]
    }
   ],
   "source": [
    "print(\"%d documents\" % len(newsgroups_all.data))\n",
    "print(\"%d categories\" % len(newsgroups_all.target_names))"
   ]
  },
  {
   "cell_type": "markdown",
   "metadata": {},
   "source": [
    "Посмотрим на образец данных."
   ]
  },
  {
   "cell_type": "code",
   "execution_count": 450,
   "metadata": {},
   "outputs": [
    {
     "name": "stdout",
     "output_type": "stream",
     "text": [
      "(\"You can't call time when there's a play in progress.\\n\"\n",
      " '\\n'\n",
      " 'Ryan Robbins\\n'\n",
      " 'Penobscot Hall\\n'\n",
      " 'University of Maine')\n"
     ]
    }
   ],
   "source": [
    "pprint(newsgroups_all.data[3])"
   ]
  },
  {
   "cell_type": "code",
   "execution_count": 332,
   "metadata": {},
   "outputs": [
    {
     "data": {
      "text/plain": [
       "'sci.space'"
      ]
     },
     "execution_count": 332,
     "metadata": {},
     "output_type": "execute_result"
    }
   ],
   "source": [
    "newsgroups_all.target_names[newsgroups_all.target[1]]"
   ]
  },
  {
   "cell_type": "markdown",
   "metadata": {},
   "source": [
    "#### Data preprocessing.\n",
    "\n",
    "Предобработаем данные, для этого:\n",
    "- приведем все слова к нижнему регистру+.\n",
    "- удалим знаки препинания+.\n",
    "- заменим представление чисел в виде цифр на текстовые аналоги+.\n",
    "- отсечем стоп слова (уберем символы и комбинации, которые не составляют смысловой нагрузки)+.\n",
    "- проведем лемматизацию (приведение слова к начальной форме с помощью словаря)+.\n",
    "- выделим n-граммы (последовательности из нескольких слов, рассматриваемых как одно целое)."
   ]
  },
  {
   "cell_type": "code",
   "execution_count": 400,
   "metadata": {},
   "outputs": [],
   "source": [
    "def remove_punctuation(text):\n",
    "    new_text = []\n",
    "    for word in text:\n",
    "        new_word = re.sub('['+text_punctuation+']', '', word)\n",
    "        if new_word != '':\n",
    "            new_text.append(new_word)\n",
    "    \n",
    "    return new_text"
   ]
  },
  {
   "cell_type": "code",
   "execution_count": 401,
   "metadata": {},
   "outputs": [],
   "source": [
    "def digits_to_text(text):\n",
    "    p = inflect.engine()\n",
    "    new_text = []\n",
    "    for word in text:\n",
    "        if word.isdigit():\n",
    "            new_word = p.number_to_words(word)\n",
    "            new_text.append(new_word)\n",
    "        else:\n",
    "            new_text.append(word)\n",
    "    return new_text"
   ]
  },
  {
   "cell_type": "code",
   "execution_count": 461,
   "metadata": {},
   "outputs": [],
   "source": [
    "def lemmatize_stemm_text(text):\n",
    "    new_text_lemma = []\n",
    "    new_text_stemm = []\n",
    "    \n",
    "    lemmatizer = WordNetLemmatizer()\n",
    "    stemmer = LancasterStemmer()\n",
    "    \n",
    "    for word in text:\n",
    "        lemma = lemmatizer.lemmatize(word, pos='v')\n",
    "        new_text_lemma.append(lemma)\n",
    "        \n",
    "        stemm = stemmer.stem(word)\n",
    "        new_text_stemm.append(stemm)\n",
    "        \n",
    "    return new_text_lemma, new_text_stemm\n",
    "        "
   ]
  },
  {
   "cell_type": "code",
   "execution_count": 475,
   "metadata": {},
   "outputs": [],
   "source": [
    "StopWords = stopwords.words('english')\n",
    "newStopWords = ['jfc','jb', 'cant'] # по ходу работы периодически добавляем стоп-слова\n",
    "StopWords.extend(newStopWords)\n",
    "\n",
    "# getting source from string.punctuation, but removed right slash / and ^\n",
    "text_punctuation = '!\"#$%&\\'()*+,-.:;<=>?@[\\\\]_`{|}~'\n",
    "\n",
    "def tokenize(text):\n",
    "    min_length = 3\n",
    "    \n",
    "    #remove punctuation\n",
    "    text = re.sub('['+text_punctuation+']', '',text)\n",
    "    text = re.sub('\\n', ' ',text)\n",
    "    \n",
    "    \n",
    "    # tokenize text\n",
    "    words = word_tokenize(text,language='english')\n",
    "    \n",
    "    #words to lowercase\n",
    "    words = map(lambda word: word.lower(), words)\n",
    "    \n",
    "    #replace digits with words\n",
    "    words = digits_to_text(words)\n",
    "        \n",
    "    # remove stopwords\n",
    "    # обогатить stopwords? возможно стоит взять слова с tf-idf\n",
    "    words = [word for word in words\n",
    "                  if word not in StopWords]\n",
    "    \n",
    "    #lemmatize or stemm words \n",
    "    words,_ = lemmatize_stemm_text(words)\n",
    "    \n",
    "    \n",
    "    #tokens = (list(map(lambda token: PorterStemmer().stem(token),\n",
    "    #              words)));\n",
    "    #p = re.compile('[a-zA-Z]+');\n",
    "    #filtered_tokens = list(filter(lambda token:\n",
    "    #              p.match(token) and len(token)>=min_length,tokens))\n",
    "    return words#filtered_tokens"
   ]
  },
  {
   "cell_type": "code",
   "execution_count": 476,
   "metadata": {},
   "outputs": [
    {
     "name": "stdout",
     "output_type": "stream",
     "text": [
      "('\\n'\n",
      " 'jfc> If gamma ray bursters are extragalactic, would absorption from the\\n'\n",
      " 'jfc> galaxy be expected?  How transparent is the galactic core to gamma\\n'\n",
      " 'jfc> rays?\\n'\n",
      " '\\n'\n",
      " 'and later...\\n'\n",
      " '\\n'\n",
      " 'JB> So, if the 1/r^2 law is incorrect (assume\\n'\n",
      " 'JB> some unknown material [dark matter??] inhibits Gamma Ray propagation),\\n'\n",
      " 'JB> could it be possible that we are actually seeing much less energetic\\n'\n",
      " 'JB> events happening much closer to us?  The even distribution could\\n'\n",
      " 'JB> be caused by the characteristic propagation distance of gamma rays \\n'\n",
      " 'JB> being shorter then 1/2 the thickness of the disk of the galaxy.\\n'\n",
      " '\\n'\n",
      " '\\n'\n",
      " ' 0.\\n'\n",
      " '\\n'\n",
      " ' Well, maybe not zero, but very little.  At the typical energies for \\n'\n",
      " ' gamma rays, the Galaxy is effectively transparent. \\n'\n",
      " '\\n'\n",
      " ' Hans Bloemen had a review article in Ann. Rev. Astr. Astrophys. a few \\n'\n",
      " ' years back in which he discusses this in more depth.')\n"
     ]
    }
   ],
   "source": [
    "pprint(newsgroups_all.data[1])"
   ]
  },
  {
   "cell_type": "code",
   "execution_count": 477,
   "metadata": {},
   "outputs": [
    {
     "name": "stdout",
     "output_type": "stream",
     "text": [
      "Wall time: 0 ns\n"
     ]
    }
   ],
   "source": [
    "% time\n",
    "test = tokenize(newsgroups_all.data[1])"
   ]
  },
  {
   "cell_type": "code",
   "execution_count": 478,
   "metadata": {},
   "outputs": [
    {
     "name": "stdout",
     "output_type": "stream",
     "text": [
      "['gamma',\n",
      " 'ray',\n",
      " 'bursters',\n",
      " 'extragalactic',\n",
      " 'would',\n",
      " 'absorption',\n",
      " 'galaxy',\n",
      " 'expect',\n",
      " 'transparent',\n",
      " 'galactic',\n",
      " 'core',\n",
      " 'gamma',\n",
      " 'ray',\n",
      " 'later',\n",
      " '1/r^2',\n",
      " 'law',\n",
      " 'incorrect',\n",
      " 'assume',\n",
      " 'unknown',\n",
      " 'material',\n",
      " 'dark',\n",
      " 'matter',\n",
      " 'inhibit',\n",
      " 'gamma',\n",
      " 'ray',\n",
      " 'propagation',\n",
      " 'could',\n",
      " 'possible',\n",
      " 'actually',\n",
      " 'see',\n",
      " 'much',\n",
      " 'less',\n",
      " 'energetic',\n",
      " 'events',\n",
      " 'happen',\n",
      " 'much',\n",
      " 'closer',\n",
      " 'us',\n",
      " 'even',\n",
      " 'distribution',\n",
      " 'could',\n",
      " 'cause',\n",
      " 'characteristic',\n",
      " 'propagation',\n",
      " 'distance',\n",
      " 'gamma',\n",
      " 'ray',\n",
      " 'shorter',\n",
      " '1/2',\n",
      " 'thickness',\n",
      " 'disk',\n",
      " 'galaxy',\n",
      " 'zero',\n",
      " 'well',\n",
      " 'maybe',\n",
      " 'zero',\n",
      " 'little',\n",
      " 'typical',\n",
      " 'energies',\n",
      " 'gamma',\n",
      " 'ray',\n",
      " 'galaxy',\n",
      " 'effectively',\n",
      " 'transparent',\n",
      " 'hans',\n",
      " 'bloemen',\n",
      " 'review',\n",
      " 'article',\n",
      " 'ann',\n",
      " 'rev',\n",
      " 'astr',\n",
      " 'astrophys',\n",
      " 'years',\n",
      " 'back',\n",
      " 'discuss',\n",
      " 'depth']\n"
     ]
    }
   ],
   "source": [
    "pprint(test)"
   ]
  },
  {
   "cell_type": "code",
   "execution_count": 252,
   "metadata": {},
   "outputs": [],
   "source": []
  },
  {
   "cell_type": "code",
   "execution_count": 254,
   "metadata": {},
   "outputs": [],
   "source": [
    "#new_sentence = re.sub(r'[^\\w\\s]', '', new_sentence)"
   ]
  },
  {
   "cell_type": "code",
   "execution_count": 208,
   "metadata": {},
   "outputs": [],
   "source": []
  },
  {
   "cell_type": "code",
   "execution_count": null,
   "metadata": {},
   "outputs": [],
   "source": []
  }
 ],
 "metadata": {
  "kernelspec": {
   "display_name": "Python 3",
   "language": "python",
   "name": "python3"
  },
  "language_info": {
   "codemirror_mode": {
    "name": "ipython",
    "version": 3
   },
   "file_extension": ".py",
   "mimetype": "text/x-python",
   "name": "python",
   "nbconvert_exporter": "python",
   "pygments_lexer": "ipython3",
   "version": "3.7.1"
  }
 },
 "nbformat": 4,
 "nbformat_minor": 2
}
