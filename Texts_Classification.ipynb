{
 "cells": [
  {
   "cell_type": "code",
   "execution_count": 184,
   "metadata": {},
   "outputs": [
    {
     "name": "stdout",
     "output_type": "stream",
     "text": [
      "Requirement already up-to-date: pandas in c:\\anaconda\\lib\\site-packages (0.23.4)\n",
      "Requirement already satisfied, skipping upgrade: python-dateutil>=2.5.0 in c:\\anaconda\\lib\\site-packages (from pandas) (2.7.3)\n",
      "Requirement already satisfied, skipping upgrade: pytz>=2011k in c:\\anaconda\\lib\\site-packages (from pandas) (2018.5)\n",
      "Requirement already satisfied, skipping upgrade: numpy>=1.9.0 in c:\\anaconda\\lib\\site-packages (from pandas) (1.15.4)\n",
      "Requirement already satisfied, skipping upgrade: six>=1.5 in c:\\anaconda\\lib\\site-packages (from python-dateutil>=2.5.0->pandas) (1.11.0)\n",
      "Requirement already up-to-date: scikit-learn in c:\\anaconda\\lib\\site-packages (0.20.2)\n",
      "Requirement already satisfied, skipping upgrade: scipy>=0.13.3 in c:\\anaconda\\lib\\site-packages (from scikit-learn) (1.1.0)\n",
      "Requirement already satisfied, skipping upgrade: numpy>=1.8.2 in c:\\anaconda\\lib\\site-packages (from scikit-learn) (1.15.4)\n",
      "Requirement already up-to-date: inflect in c:\\anaconda\\lib\\site-packages (2.1.0)\n",
      "Requirement already up-to-date: pprint in c:\\anaconda\\lib\\site-packages (0.1)\n",
      "Requirement already up-to-date: hyperopt in c:\\anaconda\\lib\\site-packages (0.1.1)\n",
      "Requirement already satisfied, skipping upgrade: pymongo in c:\\anaconda\\lib\\site-packages (from hyperopt) (3.7.2)\n",
      "Requirement already satisfied, skipping upgrade: six in c:\\anaconda\\lib\\site-packages (from hyperopt) (1.11.0)\n",
      "Requirement already satisfied, skipping upgrade: scipy in c:\\anaconda\\lib\\site-packages (from hyperopt) (1.1.0)\n",
      "Requirement already satisfied, skipping upgrade: numpy in c:\\anaconda\\lib\\site-packages (from hyperopt) (1.15.4)\n",
      "Requirement already satisfied, skipping upgrade: networkx in c:\\anaconda\\lib\\site-packages (from hyperopt) (2.1)\n",
      "Requirement already satisfied, skipping upgrade: future in c:\\anaconda\\lib\\site-packages (from hyperopt) (0.17.1)\n",
      "Requirement already satisfied, skipping upgrade: decorator>=4.1.0 in c:\\anaconda\\lib\\site-packages (from networkx->hyperopt) (4.3.0)\n",
      "Requirement already up-to-date: hpsklearn in c:\\anaconda\\lib\\site-packages (0.1.0)\n",
      "Requirement already satisfied, skipping upgrade: nose in c:\\anaconda\\lib\\site-packages (from hpsklearn) (1.3.7)\n",
      "Requirement already satisfied, skipping upgrade: hyperopt in c:\\anaconda\\lib\\site-packages (from hpsklearn) (0.1.1)\n",
      "Requirement already satisfied, skipping upgrade: numpy in c:\\anaconda\\lib\\site-packages (from hpsklearn) (1.15.4)\n",
      "Requirement already satisfied, skipping upgrade: scipy in c:\\anaconda\\lib\\site-packages (from hpsklearn) (1.1.0)\n",
      "Requirement already satisfied, skipping upgrade: scikit-learn in c:\\anaconda\\lib\\site-packages (from hpsklearn) (0.20.2)\n",
      "Requirement already satisfied, skipping upgrade: networkx in c:\\anaconda\\lib\\site-packages (from hyperopt->hpsklearn) (2.1)\n",
      "Requirement already satisfied, skipping upgrade: pymongo in c:\\anaconda\\lib\\site-packages (from hyperopt->hpsklearn) (3.7.2)\n",
      "Requirement already satisfied, skipping upgrade: future in c:\\anaconda\\lib\\site-packages (from hyperopt->hpsklearn) (0.17.1)\n",
      "Requirement already satisfied, skipping upgrade: six in c:\\anaconda\\lib\\site-packages (from hyperopt->hpsklearn) (1.11.0)\n",
      "Requirement already satisfied, skipping upgrade: decorator>=4.1.0 in c:\\anaconda\\lib\\site-packages (from networkx->hyperopt->hpsklearn) (4.3.0)\n",
      "Requirement already up-to-date: seaborn in c:\\anaconda\\lib\\site-packages (0.9.0)\n",
      "Requirement already satisfied, skipping upgrade: scipy>=0.14.0 in c:\\anaconda\\lib\\site-packages (from seaborn) (1.1.0)\n",
      "Requirement already satisfied, skipping upgrade: numpy>=1.9.3 in c:\\anaconda\\lib\\site-packages (from seaborn) (1.15.4)\n",
      "Requirement already satisfied, skipping upgrade: matplotlib>=1.4.3 in c:\\anaconda\\lib\\site-packages (from seaborn) (3.0.2)\n",
      "Requirement already satisfied, skipping upgrade: pandas>=0.15.2 in c:\\anaconda\\lib\\site-packages (from seaborn) (0.23.4)\n",
      "Requirement already satisfied, skipping upgrade: cycler>=0.10 in c:\\anaconda\\lib\\site-packages (from matplotlib>=1.4.3->seaborn) (0.10.0)\n",
      "Requirement already satisfied, skipping upgrade: kiwisolver>=1.0.1 in c:\\anaconda\\lib\\site-packages (from matplotlib>=1.4.3->seaborn) (1.0.1)\n",
      "Requirement already satisfied, skipping upgrade: pyparsing!=2.0.4,!=2.1.2,!=2.1.6,>=2.0.1 in c:\\anaconda\\lib\\site-packages (from matplotlib>=1.4.3->seaborn) (2.2.0)\n",
      "Requirement already satisfied, skipping upgrade: python-dateutil>=2.1 in c:\\anaconda\\lib\\site-packages (from matplotlib>=1.4.3->seaborn) (2.7.3)\n",
      "Requirement already satisfied, skipping upgrade: pytz>=2011k in c:\\anaconda\\lib\\site-packages (from pandas>=0.15.2->seaborn) (2018.5)\n",
      "Requirement already satisfied, skipping upgrade: six in c:\\anaconda\\lib\\site-packages (from cycler>=0.10->matplotlib>=1.4.3->seaborn) (1.11.0)\n",
      "Requirement already satisfied, skipping upgrade: setuptools in c:\\anaconda\\lib\\site-packages (from kiwisolver>=1.0.1->matplotlib>=1.4.3->seaborn) (40.2.0)\n"
     ]
    }
   ],
   "source": [
    "#update libs\n",
    "!pip install --upgrade pandas\n",
    "!pip install --upgrade scikit-learn\n",
    "!pip install --upgrade inflect\n",
    "!pip install --upgrade pprint\n",
    "!pip install --upgrade hyperopt\n",
    "!pip install --upgrade hpsklearn\n",
    "!pip install --upgrade seaborn\n",
    "!pip install --upgrade contractions\n"
   ]
  },
  {
   "cell_type": "code",
   "execution_count": 185,
   "metadata": {},
   "outputs": [],
   "source": [
    "#import common libs\n",
    "import numpy as np\n",
    "import pandas as pd\n",
    "import scipy.stats as st\n",
    "from matplotlib import pyplot as plt\n",
    "import seaborn as sns\n",
    "\n",
    "import re\n",
    "import string\n",
    "import inflect\n",
    "import itertools\n",
    "from pprint import pprint\n",
    "from tqdm import tqdm\n",
    "import glob\n",
    "import contractions\n",
    "\n",
    "#from scipy import interp\n",
    "sns.set(font_scale=1.3)"
   ]
  },
  {
   "cell_type": "code",
   "execution_count": 50,
   "metadata": {},
   "outputs": [],
   "source": [
    "#import special libs\n",
    "from sklearn.preprocessing import label_binarize,MultiLabelBinarizer\n",
    "from sklearn.pipeline import make_pipeline,Pipeline\n",
    "\n",
    "from sklearn.preprocessing import FunctionTransformer\n",
    "from sklearn.compose import ColumnTransformer\n",
    "\n",
    "from sklearn.multiclass import OneVsRestClassifier\n",
    "\n",
    "from sklearn.linear_model import LogisticRegression,SGDClassifier\n",
    "from sklearn.svm import SVC,LinearSVC\n",
    "from sklearn.naive_bayes import GaussianNB, MultinomialNB, BernoulliNB\n",
    "\n",
    "from sklearn.model_selection import GridSearchCV, StratifiedKFold, train_test_split \n",
    "from sklearn.model_selection import KFold,RandomizedSearchCV, cross_val_score\n",
    "\n",
    "from sklearn.metrics import confusion_matrix, recall_score, brier_score_loss\n",
    "from sklearn.metrics import f1_score, make_scorer, precision_score\n",
    "from sklearn.metrics import classification_report\n",
    "\n",
    "from sklearn.decomposition import PCA, TruncatedSVD,IncrementalPCA\n",
    "\n",
    "from sklearn.feature_extraction.text import TfidfVectorizer\n",
    "\n",
    "from sklearn.feature_extraction.stop_words import ENGLISH_STOP_WORDS\n",
    "\n",
    "from sklearn.calibration import CalibratedClassifierCV, calibration_curve\n",
    "\n",
    "\n",
    "%matplotlib inline"
   ]
  },
  {
   "cell_type": "code",
   "execution_count": 51,
   "metadata": {},
   "outputs": [
    {
     "name": "stdout",
     "output_type": "stream",
     "text": [
      "[nltk_data] Downloading package punkt to\n",
      "[nltk_data]     C:\\Users\\chief\\AppData\\Roaming\\nltk_data...\n",
      "[nltk_data]   Package punkt is already up-to-date!\n",
      "[nltk_data] Downloading package stopwords to\n",
      "[nltk_data]     C:\\Users\\chief\\AppData\\Roaming\\nltk_data...\n",
      "[nltk_data]   Package stopwords is already up-to-date!\n",
      "[nltk_data] Downloading package wordnet to\n",
      "[nltk_data]     C:\\Users\\chief\\AppData\\Roaming\\nltk_data...\n",
      "[nltk_data]   Package wordnet is already up-to-date!\n",
      "[nltk_data] Downloading package names to\n",
      "[nltk_data]     C:\\Users\\chief\\AppData\\Roaming\\nltk_data...\n",
      "[nltk_data]   Package names is already up-to-date!\n"
     ]
    }
   ],
   "source": [
    "import nltk\n",
    "nltk.download('punkt')\n",
    "nltk.download(\"stopwords\")\n",
    "nltk.download('wordnet')\n",
    "nltk.download('names')\n",
    "\n",
    "from nltk.corpus import names\n",
    "from nltk.corpus import stopwords\n",
    "from nltk import ngrams\n",
    "\n",
    "from nltk import word_tokenize\n",
    "from nltk.stem.porter import PorterStemmer # one more stemmer? or lemmatisation\n",
    "from nltk.stem import WordNetLemmatizer,LancasterStemmer\n",
    "\n",
    "from sklearn.datasets import fetch_20newsgroups\n",
    "seed = 321"
   ]
  },
  {
   "cell_type": "markdown",
   "metadata": {},
   "source": [
    "Загрузим датасет с классифицируемыми текстами."
   ]
  },
  {
   "cell_type": "code",
   "execution_count": 265,
   "metadata": {},
   "outputs": [],
   "source": [
    "# здесь shuffle = true, т.к. мы собираемся использовать SGDClassifier; Naive Bayes - они базируются на принципе iid данных \n",
    "#и чтобы не получить смещенную оценку\n",
    "newsgroups_all = fetch_20newsgroups(subset='all', random_state=seed, shuffle=True, remove = ('headers', 'footers', 'quotes'))\n",
    "train_texts = fetch_20newsgroups(subset='train', random_state=seed, shuffle=True, remove = ('headers', 'footers', 'quotes'))\n",
    "test_texts = fetch_20newsgroups(subset='test', random_state=seed, shuffle=True, remove = ('headers', 'footers', 'quotes'))"
   ]
  },
  {
   "cell_type": "markdown",
   "metadata": {},
   "source": [
    "Итак, задача данной работы:\n",
    "\n"
   ]
  },
  {
   "cell_type": "markdown",
   "metadata": {},
   "source": [
    "#### EDA.\n",
    "\n",
    "Посмотрим на данные, для этого:\n",
    "- посмотрим на категории текстов\n",
    "- распределение документов по категориям\n",
    "- посмотрим на примеры данных"
   ]
  },
  {
   "cell_type": "code",
   "execution_count": 829,
   "metadata": {},
   "outputs": [
    {
     "name": "stdout",
     "output_type": "stream",
     "text": [
      "'18846 documents'\n",
      "'20 categories'\n"
     ]
    }
   ],
   "source": [
    "pprint(\"%d documents\" % len(newsgroups_all.data))\n",
    "pprint(\"%d categories\" % len(newsgroups_all.target_names))"
   ]
  },
  {
   "cell_type": "code",
   "execution_count": 387,
   "metadata": {},
   "outputs": [],
   "source": [
    "def generate_stat_df(df,df_type):\n",
    "    unique, counts = np.unique(df.target, return_counts=True)\n",
    "\n",
    "    df_print = pd.DataFrame(data=list(zip(unique, df.target_names, counts)), \n",
    "                            columns = ['Id_category', 'Category_Name', 'N_texts'])\n",
    "    df_print['High_level_topic'] = df_print[\"Category_Name\"].str.split(\".\", expand = True)[0]\n",
    "    df_print['Dataset_Type'] = df_type\n",
    "    return df_print\n",
    "\n",
    "df_summary = generate_stat_df(train_texts, 'train')\n",
    "df_summary = df_summary.append(generate_stat_df(test_texts, 'test'), ignore_index=True)\n",
    "df_summary = df_summary.append(generate_stat_df(newsgroups_all, 'all'), ignore_index=True)"
   ]
  },
  {
   "cell_type": "code",
   "execution_count": 388,
   "metadata": {},
   "outputs": [
    {
     "data": {
      "image/png": "[encoded data removed]",
      "text/plain": [
       "<Figure size 1080x576 with 1 Axes>"
      ]
     },
     "metadata": {},
     "output_type": "display_data"
    }
   ],
   "source": [
    "# print the histogramm with distribution of texts by categorieas and topics\n",
    "plt.figure(figsize=(15,8))\n",
    "sns.barplot(x=\"Category_Name\", y=\"N_texts\", hue = 'Dataset_Type',data=df_summary)\n",
    "plt.xticks(rotation=75)\n",
    "plt.xlabel('Text category');\n",
    "plt.ylabel('Number of text in category');\n",
    "plt.title(\"Categories in text\");"
   ]
  },
  {
   "cell_type": "code",
   "execution_count": 828,
   "metadata": {},
   "outputs": [
    {
     "name": "stdout",
     "output_type": "stream",
     "text": [
      "                   0     1      2     3     4      5     6     7      8   \\\n",
      "High_level_topic  alt   alt    alt  comp  comp   comp  misc  misc   misc   \n",
      "Dataset_Type      all  test  train   all  test  train   all  test  train   \n",
      "N_texts           799   319    480  4891  1955   2936   975   390    585   \n",
      "\n",
      "                    9   ...       11    12    13     14   15    16     17  \\\n",
      "High_level_topic   rec  ...      rec   sci   sci    sci  soc   soc    soc   \n",
      "Dataset_Type       all  ...    train   all  test  train  all  test  train   \n",
      "N_texts           3979  ...     2389  3952  1579   2373  997   398    599   \n",
      "\n",
      "                    18    19     20  \n",
      "High_level_topic  talk  talk   talk  \n",
      "Dataset_Type       all  test  train  \n",
      "N_texts           3253  1301   1952  \n",
      "\n",
      "[3 rows x 21 columns]\n"
     ]
    },
    {
     "data": {
      "image/png": "[encoded data removed]",
      "text/plain": [
       "<Figure size 1080x576 with 1 Axes>"
      ]
     },
     "metadata": {},
     "output_type": "display_data"
    }
   ],
   "source": [
    "groupped_df = df_summary.groupby(['High_level_topic','Dataset_Type']).agg({'N_texts': ['sum']})\n",
    "groupped_df.columns = groupped_df.columns.droplevel(1)\n",
    "groupped_df.reset_index(inplace=True)\n",
    "print(groupped_df.T)\n",
    "\n",
    "\n",
    "plt.figure(figsize=(15,8))\n",
    "sns.barplot(x=\"N_texts\", y=\"High_level_topic\", data=groupped_df[groupped_df.Dataset_Type == 'all'])\n",
    "plt.xticks(rotation=75)\n",
    "plt.xlabel('Number of text in category');\n",
    "plt.ylabel('Text category');\n",
    "plt.title(\"High level categories in text\");"
   ]
  },
  {
   "cell_type": "markdown",
   "metadata": {},
   "source": [
    "Посмотрим на образец данных."
   ]
  },
  {
   "cell_type": "code",
   "execution_count": 391,
   "metadata": {},
   "outputs": [
    {
     "name": "stdout",
     "output_type": "stream",
     "text": [
      "('\\n'\n",
      " 'This is a ridiculous argument for being a Christian.  So then, you might \\n'\n",
      " 'consider switching from Christianity to another religion if you were \\n'\n",
      " 'offered an even more frightening description of another hell?  How many\\n'\n",
      " 'Christians do think there are who view it strictly as an insurance policy?\\n'\n",
      " 'Not many I know; they believe in a message of love and compassion for \\n'\n",
      " 'others.  A faith based on fear of hell sounds like a dysfunctional \\n'\n",
      " \"relationship with God.  Like a child who cringes in fear of a parent's\\n\"\n",
      " 'physical violence.  \\n'\n",
      " '\\n'\n",
      " 'Many religions have concrete views of heaven and hell, with various\\n'\n",
      " 'threats and persuasions regarding who will go where.  Competition over\\n'\n",
      " 'who can envison the worst hell can hardly nurture the idea of loving\\n'\n",
      " 'your neighbor as yourself.\\n'\n",
      " '\\n')\n"
     ]
    }
   ],
   "source": [
    "pprint(newsgroups_all.data[11])"
   ]
  },
  {
   "cell_type": "code",
   "execution_count": 392,
   "metadata": {},
   "outputs": [
    {
     "data": {
      "text/plain": [
       "'soc.religion.christian'"
      ]
     },
     "execution_count": 392,
     "metadata": {},
     "output_type": "execute_result"
    }
   ],
   "source": [
    "newsgroups_all.target_names[newsgroups_all.target[11]]"
   ]
  },
  {
   "cell_type": "markdown",
   "metadata": {},
   "source": [
    "Текст содержит элементы вида - перенос строки, знаки препинания, имя собественное."
   ]
  },
  {
   "cell_type": "code",
   "execution_count": 1045,
   "metadata": {},
   "outputs": [
    {
     "name": "stdout",
     "output_type": "stream",
     "text": [
      "('\\n'\n",
      " '\\n'\n",
      " \"Again, you missed Jesus's point.  If you read the surrounding passages\\n\"\n",
      " 'you would understand what Jesus means by \"life in the world.\"  But\\n'\n",
      " 'as is, you bumbled around, asserted your standard axiom that the Bible is '\n",
      " 'bunk,\\n'\n",
      " 'and came up with the wrong idea.  Also, you do not know exactly\\n'\n",
      " 'what Jesus means by eternal life.  \\n'\n",
      " '\\n'\n",
      " 'Brian K., do you expect to jump in the middle of the quantum mechanics\\n'\n",
      " 'book and understand Hermite polynomials having not read the surrounding\\n'\n",
      " 'material?  Why do you such with the Bible?  For an idea what Jesus\\n'\n",
      " 'means by the world, look up references to it in your concordance.  For\\n'\n",
      " 'a good description, the whole Book of Ecclesiastes is game.  For \\n'\n",
      " 'eternal life, check out John 17:3, John 3:15-16.  You will find that\\n'\n",
      " 'eternal life is quite different than what you think.  Eternal life\\n'\n",
      " 'starts NOW--an infinitely high quality of life living in fellowship\\n'\n",
      " 'with God.\\n'\n",
      " '\\n'\n",
      " '\\n'\n",
      " '\\n'\n",
      " 'If my diety exists, you would not just cease to exist.  Jesus talks of\\n'\n",
      " 'hell in Luke 16:19-31.  \\n'\n",
      " '\\n'\n",
      " '\\n'\n",
      " '\\n'\n",
      " '\\n'\n",
      " 'The truth is, is that it is not some sort of magic spell.  The truth\\n'\n",
      " 'is is that you do not understand it, and enjoy not understanding it.\\n'\n",
      " '\\n'\n",
      " '\\n'\n",
      " '\\n'\n",
      " 'Wrong again.  Christianity is supposed to be relationship.  You\\n'\n",
      " 'do not even know what Christianity is and you are arguing against\\n'\n",
      " 'it.\\n')\n"
     ]
    }
   ],
   "source": [
    "pprint(newsgroups_all.data[39])"
   ]
  },
  {
   "cell_type": "code",
   "execution_count": 1044,
   "metadata": {},
   "outputs": [
    {
     "data": {
      "text/plain": [
       "'talk.religion.misc'"
      ]
     },
     "execution_count": 1044,
     "metadata": {},
     "output_type": "execute_result"
    }
   ],
   "source": [
    "newsgroups_all.target_names[newsgroups_all.target[39]]"
   ]
  },
  {
   "cell_type": "markdown",
   "metadata": {},
   "source": [
    "Помимо элементов из предыдущего текста здесь добавились ..., почтовый адрес и другие шумовые \"элементы\"."
   ]
  },
  {
   "cell_type": "markdown",
   "metadata": {},
   "source": [
    "#### Data preprocessing.\n",
    "\n",
    "Предобработаем данные, для этого:\n",
    "- приведем все слова к нижнему регистру+.\n",
    "- удалим знаки препинания+.\n",
    "- заменим представление чисел в виде цифр на текстовые аналоги+.\n",
    "- отсечем стоп слова (уберем символы и комбинации, которые не составляют смысловой нагрузки)+.\n",
    "- проведем лемматизацию/стемминг (приведение слова к начальной форме с помощью словаря/выделение корня слова)+.\n",
    "- удалим слова длиной 2 и менее символов+.\n",
    "- выделим n-граммы (последовательности из нескольких слов, рассматриваемых как одно целое)."
   ]
  },
  {
   "cell_type": "code",
   "execution_count": 1562,
   "metadata": {},
   "outputs": [],
   "source": [
    "def remove_emails(text):\n",
    "    text = re.sub('\\S*@\\S*\\s?','',text)\n",
    "    \n",
    "    return text"
   ]
  },
  {
   "cell_type": "code",
   "execution_count": 1563,
   "metadata": {},
   "outputs": [],
   "source": [
    "def remove_punctuation2(text_punctuation,text):\n",
    "    \n",
    "    new_text = []\n",
    "    new_text = re.sub('['+text_punctuation+']', ' ',text)\n",
    "    #new_text = re.sub('\\n', ' ',new_text)\n",
    "    #new_text = re.sub('\\t', '',new_text)\n",
    "    new_text =  new_text.strip()\n",
    "    \n",
    "    '''for word in text: \n",
    "        new_word =  re.sub('['+text_punctuation+']', ' ',word)\n",
    "        new_word =  new_word.strip()\n",
    "        new_text.append(new_word)'''\n",
    "    \n",
    "    return new_text\n",
    "\n",
    "\n",
    "def remove_punctuation(text_punctuation,text):\n",
    "    \n",
    "    new_text = []\n",
    "    #new_text = re.sub('['+text_punctuation+']', '',text)\n",
    "    #new_text = re.sub('\\n', ' ',new_text)\n",
    "    for word in text: \n",
    "        new_word =  re.sub('['+text_punctuation+']', ' ',word)\n",
    "        new_word =  new_word.strip()\n",
    "        new_text.append(new_word)\n",
    "    \n",
    "    return new_text"
   ]
  },
  {
   "cell_type": "code",
   "execution_count": 1564,
   "metadata": {},
   "outputs": [],
   "source": [
    "def digits_to_text(text):\n",
    "    p = inflect.engine()\n",
    "    new_text = []\n",
    "    for word in text:\n",
    "        if word.isdigit():\n",
    "            if len(word) > 18:\n",
    "                print (1) #do nothing\n",
    "            else:\n",
    "                new_word = p.number_to_words(word)\n",
    "                new_text.append(new_word)\n",
    "        else:\n",
    "            new_text.append(word)\n",
    "    #del p\n",
    "    return new_text"
   ]
  },
  {
   "cell_type": "code",
   "execution_count": 1565,
   "metadata": {},
   "outputs": [],
   "source": [
    "def lemmatize_stemm_text(text):\n",
    "    new_text_lemma = []\n",
    "    new_text_stemm = []\n",
    "    \n",
    "    lemmatizer = WordNetLemmatizer()\n",
    "    stemmer = LancasterStemmer()\n",
    "    \n",
    "    for word in text:\n",
    "        lemma = lemmatizer.lemmatize(word, pos='v') # pay attention to pos='v' parameter!\n",
    "        new_text_lemma.append(lemma)\n",
    "        \n",
    "        stemm = stemmer.stem(word)\n",
    "        new_text_stemm.append(stemm)\n",
    "        \n",
    "    return new_text_lemma, new_text_stemm\n",
    "        "
   ]
  },
  {
   "cell_type": "code",
   "execution_count": 1566,
   "metadata": {},
   "outputs": [],
   "source": [
    "StopWords = list(set( stopwords.words('english') ).union( set(ENGLISH_STOP_WORDS)))\n",
    "newStopWords = ['jfc','jb'] # по ходу работы периодически добавляем стоп-слова\n",
    "newStopWords2 = ['arent', 'didnt', 'doesnt', 'dont', 'hadnt', 'havent', 'isnt', \n",
    "                 'mightnt', 'mustnt', 'neednt', 'shant', 'shes', 'shouldnt', 'shouldve', 'theres','thatll', 'wasnt', \n",
    "                 'werent', 'wont', 'wouldnt', 'youd', 'youll', 'youre', 'youve',\n",
    "                 \"'ll\", \"'re\", \"'ve\", \"n't\", 'need', 'sha', 'anna','n t','ann mari', 'ann marie', \n",
    "                 'anna diana', 'anna diane', 'anna maria', 'anne corinne', 'anne mar', 'anne marie', \n",
    "                 'barbara anne', 'bette ann', 'carol jean', 'diane marie', 'e lane', 'hans peter', \n",
    "                 'helen elizabeth', 'holly anne', 'jean christophe', 'jean francois', 'jean lou', \n",
    "                 'jean luc', 'jean marc', 'jean paul', 'jean pierre', 'jo anne', 'john david', 'john patrick', \n",
    "                 'kara lynn', 'marie ann', 'marie jeanne', 'paula grace', 'sara ann', \n",
    "                 'sheila kathryn', 'sue elle', 'terri jo', 'theresa marie', 'zsa',\n",
    "                 '/       \\\\','0  w','0  w0','000','0000','000000','00000000', '0000000004',\n",
    "                 '00000000b', '00000001', '00000001b', '00000010',\n",
    "                 '00000010b', '00000011', '00000011b', '00000074',\n",
    "                 '00000100', '00000100b', '00000101', '00000101b',\n",
    "                 '00000110', '00000110b', '00000111', '00000111b',\n",
    "                 '000005102000', '00001000', '00001000b',\n",
    "                 '00001001', '00001001b', '00001010', '00001010b',\n",
    "                 '00001011', '00001011b', '00001100', '00001100b', '00001101']\n",
    "\n",
    "StopWords.extend(newStopWords)\n",
    "StopWords.extend(newStopWords2)\n",
    "\n",
    "\n",
    "male_names = names.words('male.txt')\n",
    "female_names = names.words('female.txt')\n",
    "\n",
    "Common_First_Names = list(set(male_names).union(set(female_names)))\n",
    "Common_First_Names = list(map(lambda word: word.lower(), Common_First_Names))\n",
    "\n",
    "#StopWords.extend(Common_First_Names)\n",
    "\n",
    "def remove_stopwords(stop_words ,text):\n",
    "    \n",
    "    new_words = []\n",
    "    for word in text:\n",
    "        if word not in stop_words:\n",
    "            new_words.append(word)\n",
    "\n",
    "    return new_words"
   ]
  },
  {
   "cell_type": "code",
   "execution_count": 1567,
   "metadata": {},
   "outputs": [],
   "source": [
    "def remove_short_words(text, word_len):\n",
    "    new_text = []\n",
    "    for word in text:\n",
    "        if len(word) >= word_len:\n",
    "            new_text.append(word)\n",
    "            \n",
    "    return new_text"
   ]
  },
  {
   "cell_type": "code",
   "execution_count": 1568,
   "metadata": {},
   "outputs": [],
   "source": [
    "def replace_contractions(text):\n",
    "    \"\"\"Replace contractions in string of text\"\"\"\n",
    "    return contractions.fix(text)"
   ]
  },
  {
   "cell_type": "code",
   "execution_count": 1607,
   "metadata": {},
   "outputs": [],
   "source": [
    "from bs4 import BeautifulSoup\n",
    "def strip_html(text):\n",
    "    soup = BeautifulSoup(text, \"html.parser\")\n",
    "    return soup.get_text()"
   ]
  },
  {
   "cell_type": "code",
   "execution_count": 1569,
   "metadata": {},
   "outputs": [],
   "source": [
    "import unicodedata"
   ]
  },
  {
   "cell_type": "code",
   "execution_count": 1570,
   "metadata": {},
   "outputs": [],
   "source": [
    "def remove_non_ascii(words):\n",
    "    \"\"\"Remove non-ASCII characters from list of tokenized words\"\"\"\n",
    "    new_words = []\n",
    "    for word in words:\n",
    "        new_word = unicodedata.normalize('NFKD', word).encode('ascii', 'ignore').decode('utf-8', 'ignore')\n",
    "        new_words.append(new_word)\n",
    "    return new_words"
   ]
  },
  {
   "cell_type": "code",
   "execution_count": 1608,
   "metadata": {},
   "outputs": [],
   "source": [
    "# getting source from string.punctuation,removed -, :\n",
    "text_punctuation = '!\"#$%&\\'()*+,-.:;<=>?@[\\\\]_`{|}~/^'\n",
    "\n",
    "def tokenize(text):\n",
    "    min_length = 3\n",
    "    \n",
    "    # remove emails from text to prevent overfit\n",
    "    text = remove_emails(text)\n",
    "    \n",
    "    #remove html \n",
    "    text = strip_html(text)\n",
    "    \n",
    "    #  text  to lowercase\n",
    "    text =  text.lower()\n",
    "    \n",
    "    # test it\n",
    "    text = replace_contractions(text)\n",
    "    \n",
    "    #remove punctuation\n",
    "    text = remove_punctuation2(text_punctuation, text) \n",
    "    \n",
    "    #ngrams test\n",
    "    #words = list(ngrams(text.split(), 3))\n",
    "\n",
    "    # tokenize text\n",
    "    words = word_tokenize(text,language='english')\n",
    "    \n",
    "    #remove non ascii? test it\n",
    "    words = remove_non_ascii(words)\n",
    "    \n",
    "    #remove punctuation\n",
    "    #words = remove_punctuation(text_punctuation, words)   \n",
    "    \n",
    "    #replace digits with words\n",
    "    #words = digits_to_text(words)\n",
    "        \n",
    "    # remove stopwords\n",
    "    words = remove_stopwords(StopWords,words)\n",
    "    \n",
    "    #lemmatize words 0.69 f1score\n",
    "    words,_ = lemmatize_stemm_text(words)\n",
    "    \n",
    "    #stemm words \n",
    "    #_,words = lemmatize_stemm_text(words)\n",
    "    \n",
    "    #filter short words\n",
    "    words = remove_short_words(words, 3)\n",
    "\n",
    "    return words"
   ]
  },
  {
   "cell_type": "code",
   "execution_count": 1609,
   "metadata": {},
   "outputs": [],
   "source": [
    "'''\n",
    "\n",
    "sentence = 'this is a foo bar sentences and i want to ngramize it'\n",
    "\n",
    "n = 3\n",
    "sixgrams = ngrams(sentence.split(), n)\n",
    "\n",
    "for grams in sixgrams:\n",
    "  print (grams)''';"
   ]
  },
  {
   "cell_type": "code",
   "execution_count": 1672,
   "metadata": {},
   "outputs": [
    {
     "name": "stdout",
     "output_type": "stream",
     "text": [
      "['From: Center for Policy Research <cpr>\\n'\n",
      " 'Subject: Zionism - racism\\n'\n",
      " '\\n'\n",
      " '\\n'\n",
      " \"Diaspora 'a cancer'\\n\"\n",
      " '------------------- by Julian Kossoff and Lindsay Schusman in:\\n'\n",
      " 'Jewish Chronicle, London, 22. Dec. 1989\\n'\n",
      " '\\n'\n",
      " 'Leading Israeli author and cultural commentator, A.B. Yehoshua,\\n'\n",
      " 'launched a ferocious attack on diaspora Jewry at a Zionist Youth\\n'\n",
      " 'Council meeting in North London, last week.\\n'\n",
      " '\\n'\n",
      " 'The diaspora, he claimed, \"was the cancer connected to the main\\n'\n",
      " 'tissue of the Jewish people\". He was scathing about its failure to\\n'\n",
      " 'act before the Holocaust.\\n'\n",
      " '\\n'\n",
      " \"He said the diaspora's religious and secular leadership had\\n\"\n",
      " 'ignored the warning signs in the 1920s, and had fiercely opposed\\n'\n",
      " 'Zionism. Consequently, he considered the Holocaust, \"the failure\\n'\n",
      " 'of Judaism\".\\n'\n",
      " '\\n'\n",
      " 'His talk, entitled \"Diaspora: A Neurotic Solution\", covered 5,000\\n'\n",
      " 'years of Jewish history.\\n'\n",
      " '\\n'\n",
      " \"Mr. Yehoshua's other targets included Soviet Jews who were, he\\n\"\n",
      " 'said \"not staying [in Israel], but running [away]\", and all Jews\\n'\n",
      " 'outside Israel \"who were using other people\\'s countries like\\n'\n",
      " 'hotels\".\\n'\n",
      " '\\n'\n",
      " 'The only conclusion he could draw was that the diaspora was\\n'\n",
      " 'immoral, because it looked to Israel for its identity but lived\\n'\n",
      " 'elsewhere.\\n'\n",
      " '\\n'\n",
      " 'Worse, it threatened Israel itself, creating a distraction for her\\n'\n",
      " 'citizens, who were leaving by the thousands.\\n'\n",
      " '\\n'\n",
      " 'Mr. Yehoshua, who described himself as \"a soldier for aliyah\",\\n'\n",
      " 'ended by calling for the creation of a new \"total Jew\", living in\\n'\n",
      " 'Israel.\\n'\n",
      " '\\n'\n",
      " 'Earlier, speaking at a meeting of Jewish students on the\\n'\n",
      " 'difficulties of forging a national identity in Israeli literature,\\n'\n",
      " 'Mr. Yehoshua claimed that Israeli writers were paralyzed by the\\n'\n",
      " \"country's political situation.\\n\"\n",
      " '\\n'\n",
      " \"He said Israel's wars had once provided writers with a vital\\n\"\n",
      " 'source of inspiration.  Today, Israeli writers avoided writing\\n'\n",
      " 'directly about the Arab-Israeli conflict. No major work had been\\n'\n",
      " 'produced about the intifada.\\n'\n",
      " '\\n'\n",
      " 'Instead, writers were tackling themes such as Jewish identity,\\n'\n",
      " 'emigration from Israel and personal and family issues.\\n'\n",
      " '\\n'\n",
      " 'Mr. Yehoshua admitted he also felt unable to write about the\\n'\n",
      " 'Israeli political situation. He could no longer step into an\\n'\n",
      " 'Israeli Arab\\'s shoes and portray him as a real \"flesh and blood\\n'\n",
      " 'character\".\\n'\n",
      " '\\n'\n",
      " 'He claimed that after 40 years of statehood, the problem of\\n'\n",
      " 'Israeli identity had not been solved. He said Jews remained too\\n'\n",
      " 'pre-occupied with the borders of identity between Jew and non-Jew,\\n'\n",
      " 'and were not concerned with the nature of that identity.\\n'\n",
      " '\\n'\n",
      " 'Jewish values in Israel embraced every aspect of daily life,\\n'\n",
      " 'unlike in the diaspora, where Jews had no responsibility for the\\n'\n",
      " 'country they lived in, he said.\\n'\n",
      " '\\n'\n",
      " 'He warned that modern Hebrew, a unifying force for the Jewish\\n'\n",
      " 'people, would have to struggle for its future, especially in\\n'\n",
      " 'literary circles. It faced fierce competition from the English\\n'\n",
      " 'language.\\n',\n",
      " '\\n'\n",
      " 'This is a ridiculous argument for being a Christian.  So then, you might \\n'\n",
      " 'consider switching from Christianity to another religion if you were \\n'\n",
      " 'offered an even more frightening description of another hell?  How many\\n'\n",
      " 'Christians do think there are who view it strictly as an insurance policy?\\n'\n",
      " 'Not many I know; they believe in a message of love and compassion for \\n'\n",
      " 'others.  A faith based on fear of hell sounds like a dysfunctional \\n'\n",
      " \"relationship with God.  Like a child who cringes in fear of a parent's\\n\"\n",
      " 'physical violence.  \\n'\n",
      " '\\n'\n",
      " 'Many religions have concrete views of heaven and hell, with various\\n'\n",
      " 'threats and persuasions regarding who will go where.  Competition over\\n'\n",
      " 'who can envison the worst hell can hardly nurture the idea of loving\\n'\n",
      " 'your neighbor as yourself.\\n'\n",
      " '\\n',\n",
      " 'I have a group of GIF images that each contain 6 small images in \\n'\n",
      " 'the same place on all the images. I need a program to crop out the\\n'\n",
      " 'small images to a new GIF file. All the programs I can find make me\\n'\n",
      " 'use the mouse or keyboard to define the cropping coordinates. Is there\\n'\n",
      " 'a program out there for a PC that can take the crop coordinates on\\n'\n",
      " 'the command line?',\n",
      " '\\n'\n",
      " '   searching out our deceased ancestors so that we can perform the\\n'\n",
      " '   ordinances -- such as baptism, confirmation, and marriage for time and\\n'\n",
      " '   eternity -- that are required for a person to obtain salvation through\\n'\n",
      " '   Christ and to live with Him through the eternities. These are people\\n'\n",
      " '   who may have not had the opportunity to know Christ in their lifetime,\\n'\n",
      " \"   so we are making it possible for Christ's saving grace (I know there\\n\"\n",
      " '   are thousands of interpretations of that phrase) to become fully\\n'\n",
      " '   effective for them if they allow it to do so on the other side.\\n'\n",
      " '\\n'\n",
      " '\\n'\n",
      " 'This paragraph brought to mind a question.  How do you (Mormons) reconcile\\n'\n",
      " \"the idea of eternal marriage with Christ's statement that in the \"\n",
      " 'ressurection\\n'\n",
      " 'people will neither marry nor be given in marriage (Luke, chapt. 20)?\\n'\n",
      " '\\n'\n",
      " '-------------------------------------------------------------------------------\\n'\n",
      " 'David Hammerslag (dhammers@urbana.mcd.mot.com)\\n'\n",
      " '   \"...there ain\\'t nobody so bad that the Lord can\\'t save \\'em ain\\'t\\n'\n",
      " '        nobody so good they don\\'t need God\\'s love...\" -- Mullins ',\n",
      " 'Hi. I own an LCIII and I recently heard an interesting rumor.\\n'\n",
      " 'I heard that the LCIII has a built in slot for a PowerPC chip.\\n'\n",
      " 'Is this true? I heard that the slot is not the same as the PDS\\n'\n",
      " 'slot.  Is that true?']\n"
     ]
    }
   ],
   "source": [
    "pprint(newsgroups_all.data[10:15]) #1,3,55,39"
   ]
  },
  {
   "cell_type": "code",
   "execution_count": 1673,
   "metadata": {},
   "outputs": [
    {
     "name": "stdout",
     "output_type": "stream",
     "text": [
      "Wall time: 84.8 ms\n"
     ]
    }
   ],
   "source": [
    "%%time\n",
    "test = tokenize(newsgroups_all.data[10])\n",
    "test4 = tokenize(newsgroups_all.data[44])\n",
    "test5 = tokenize(newsgroups_all.data[55])\n",
    "test6 = tokenize(newsgroups_all.data[66])\n",
    "test7 = tokenize(newsgroups_all.data[77])"
   ]
  },
  {
   "cell_type": "code",
   "execution_count": 1674,
   "metadata": {
    "scrolled": true
   },
   "outputs": [
    {
     "data": {
      "text/plain": [
       "(['center',\n",
       "  'policy',\n",
       "  'research',\n",
       "  'subject',\n",
       "  'zionism',\n",
       "  'racism',\n",
       "  'diaspora',\n",
       "  'cancer',\n",
       "  'julian',\n",
       "  'kossoff',\n",
       "  'lindsay',\n",
       "  'schusman',\n",
       "  'jewish',\n",
       "  'chronicle',\n",
       "  'london',\n",
       "  'dec',\n",
       "  '1989',\n",
       "  'lead',\n",
       "  'israeli',\n",
       "  'author',\n",
       "  'cultural',\n",
       "  'commentator',\n",
       "  'yehoshua',\n",
       "  'launch',\n",
       "  'ferocious',\n",
       "  'attack',\n",
       "  'diaspora',\n",
       "  'jewry',\n",
       "  'zionist',\n",
       "  'youth',\n",
       "  'council',\n",
       "  'meet',\n",
       "  'north',\n",
       "  'london',\n",
       "  'week',\n",
       "  'diaspora',\n",
       "  'claim',\n",
       "  'cancer',\n",
       "  'connect',\n",
       "  'main',\n",
       "  'tissue',\n",
       "  'jewish',\n",
       "  'people',\n",
       "  'scathing',\n",
       "  'failure',\n",
       "  'act',\n",
       "  'holocaust',\n",
       "  'say',\n",
       "  'diaspora',\n",
       "  'religious',\n",
       "  'secular',\n",
       "  'leadership',\n",
       "  'ignore',\n",
       "  'warn',\n",
       "  'sign',\n",
       "  '1920s',\n",
       "  'fiercely',\n",
       "  'oppose',\n",
       "  'zionism',\n",
       "  'consequently',\n",
       "  'consider',\n",
       "  'holocaust',\n",
       "  'failure',\n",
       "  'judaism',\n",
       "  'talk',\n",
       "  'entitle',\n",
       "  'diaspora',\n",
       "  'neurotic',\n",
       "  'solution',\n",
       "  'cover',\n",
       "  'years',\n",
       "  'jewish',\n",
       "  'history',\n",
       "  'yehoshua',\n",
       "  'target',\n",
       "  'include',\n",
       "  'soviet',\n",
       "  'jews',\n",
       "  'say',\n",
       "  'stay',\n",
       "  'israel',\n",
       "  'run',\n",
       "  'away',\n",
       "  'jews',\n",
       "  'outside',\n",
       "  'israel',\n",
       "  'use',\n",
       "  'people',\n",
       "  'countries',\n",
       "  'like',\n",
       "  'hotels',\n",
       "  'conclusion',\n",
       "  'draw',\n",
       "  'diaspora',\n",
       "  'immoral',\n",
       "  'look',\n",
       "  'israel',\n",
       "  'identity',\n",
       "  'live',\n",
       "  'worse',\n",
       "  'threaten',\n",
       "  'israel',\n",
       "  'create',\n",
       "  'distraction',\n",
       "  'citizens',\n",
       "  'leave',\n",
       "  'thousands',\n",
       "  'yehoshua',\n",
       "  'describe',\n",
       "  'soldier',\n",
       "  'aliyah',\n",
       "  'end',\n",
       "  'call',\n",
       "  'creation',\n",
       "  'new',\n",
       "  'total',\n",
       "  'jew',\n",
       "  'live',\n",
       "  'israel',\n",
       "  'earlier',\n",
       "  'speak',\n",
       "  'meet',\n",
       "  'jewish',\n",
       "  'students',\n",
       "  'difficulties',\n",
       "  'forge',\n",
       "  'national',\n",
       "  'identity',\n",
       "  'israeli',\n",
       "  'literature',\n",
       "  'yehoshua',\n",
       "  'claim',\n",
       "  'israeli',\n",
       "  'writers',\n",
       "  'paralyze',\n",
       "  'country',\n",
       "  'political',\n",
       "  'situation',\n",
       "  'say',\n",
       "  'israel',\n",
       "  'war',\n",
       "  'provide',\n",
       "  'writers',\n",
       "  'vital',\n",
       "  'source',\n",
       "  'inspiration',\n",
       "  'today',\n",
       "  'israeli',\n",
       "  'writers',\n",
       "  'avoid',\n",
       "  'write',\n",
       "  'directly',\n",
       "  'arab',\n",
       "  'israeli',\n",
       "  'conflict',\n",
       "  'major',\n",
       "  'work',\n",
       "  'produce',\n",
       "  'intifada',\n",
       "  'instead',\n",
       "  'writers',\n",
       "  'tackle',\n",
       "  'theme',\n",
       "  'jewish',\n",
       "  'identity',\n",
       "  'emigration',\n",
       "  'israel',\n",
       "  'personal',\n",
       "  'family',\n",
       "  'issue',\n",
       "  'yehoshua',\n",
       "  'admit',\n",
       "  'felt',\n",
       "  'unable',\n",
       "  'write',\n",
       "  'israeli',\n",
       "  'political',\n",
       "  'situation',\n",
       "  'longer',\n",
       "  'step',\n",
       "  'israeli',\n",
       "  'arab',\n",
       "  'shoe',\n",
       "  'portray',\n",
       "  'real',\n",
       "  'flesh',\n",
       "  'blood',\n",
       "  'character',\n",
       "  'claim',\n",
       "  'years',\n",
       "  'statehood',\n",
       "  'problem',\n",
       "  'israeli',\n",
       "  'identity',\n",
       "  'solve',\n",
       "  'say',\n",
       "  'jews',\n",
       "  'remain',\n",
       "  'pre',\n",
       "  'occupy',\n",
       "  'border',\n",
       "  'identity',\n",
       "  'jew',\n",
       "  'non',\n",
       "  'jew',\n",
       "  'concern',\n",
       "  'nature',\n",
       "  'identity',\n",
       "  'jewish',\n",
       "  'value',\n",
       "  'israel',\n",
       "  'embrace',\n",
       "  'aspect',\n",
       "  'daily',\n",
       "  'life',\n",
       "  'unlike',\n",
       "  'diaspora',\n",
       "  'jews',\n",
       "  'responsibility',\n",
       "  'country',\n",
       "  'live',\n",
       "  'say',\n",
       "  'warn',\n",
       "  'modern',\n",
       "  'hebrew',\n",
       "  'unify',\n",
       "  'force',\n",
       "  'jewish',\n",
       "  'people',\n",
       "  'struggle',\n",
       "  'future',\n",
       "  'especially',\n",
       "  'literary',\n",
       "  'circle',\n",
       "  'face',\n",
       "  'fierce',\n",
       "  'competition',\n",
       "  'english',\n",
       "  'language'],\n",
       " ['think',\n",
       "  'fiamms',\n",
       "  'want',\n",
       "  'think',\n",
       "  'airhorns',\n",
       "  'instal',\n",
       "  'set',\n",
       "  'bosch',\n",
       "  'air',\n",
       "  'horn',\n",
       "  'order',\n",
       "  'dennis',\n",
       "  'kirk',\n",
       "  '282',\n",
       "  'latest',\n",
       "  'catalog',\n",
       "  'fj1100',\n",
       "  'rat',\n",
       "  '93db',\n",
       "  'meter',\n",
       "  'instal',\n",
       "  'use',\n",
       "  'gage',\n",
       "  'wire',\n",
       "  'battery',\n",
       "  'relay',\n",
       "  'compressor',\n",
       "  'grind',\n",
       "  'stock',\n",
       "  'horn',\n",
       "  'connectors',\n",
       "  'fit',\n",
       "  'relay',\n",
       "  'pin',\n",
       "  'fine',\n",
       "  'solder',\n",
       "  'connections',\n",
       "  'relay',\n",
       "  'compressor',\n",
       "  'use',\n",
       "  'crimp',\n",
       "  'type',\n",
       "  'battery',\n",
       "  'connector',\n",
       "  'inline',\n",
       "  '10amp',\n",
       "  'fuse',\n",
       "  'connector',\n",
       "  'napa',\n",
       "  'instal',\n",
       "  'compressor',\n",
       "  'forward',\n",
       "  'fuse',\n",
       "  'box',\n",
       "  'fair',\n",
       "  'tie',\n",
       "  'wrap',\n",
       "  'steer',\n",
       "  'head',\n",
       "  'frame',\n",
       "  'black',\n",
       "  'steel',\n",
       "  'tube',\n",
       "  'frame',\n",
       "  'use',\n",
       "  'support',\n",
       "  'fair',\n",
       "  'remove',\n",
       "  'fair',\n",
       "  'fit',\n",
       "  'outside',\n",
       "  'frame',\n",
       "  'inside',\n",
       "  'fair',\n",
       "  'vertical',\n",
       "  'support',\n",
       "  'fuse',\n",
       "  'depend',\n",
       "  'tight',\n",
       "  'fair',\n",
       "  'follow',\n",
       "  'frame',\n",
       "  'able',\n",
       "  'fit',\n",
       "  'fair',\n",
       "  'compressor',\n",
       "  'diameter',\n",
       "  'long',\n",
       "  'relay',\n",
       "  'mount',\n",
       "  'steer',\n",
       "  'head',\n",
       "  'frame',\n",
       "  'small',\n",
       "  'plenty',\n",
       "  'good',\n",
       "  'place',\n",
       "  'perfect',\n",
       "  'place',\n",
       "  'horn',\n",
       "  'require',\n",
       "  'tie',\n",
       "  'wrap',\n",
       "  'mount',\n",
       "  'horn',\n",
       "  'fit',\n",
       "  'inside',\n",
       "  'fair',\n",
       "  'frame',\n",
       "  'stick',\n",
       "  'air',\n",
       "  'scoop',\n",
       "  'turn',\n",
       "  'signal',\n",
       "  'horn',\n",
       "  'point',\n",
       "  'center',\n",
       "  'bike',\n",
       "  'come',\n",
       "  'real',\n",
       "  'close',\n",
       "  'gas',\n",
       "  'tank',\n",
       "  'connect',\n",
       "  'frame',\n",
       "  'room',\n",
       "  'outside',\n",
       "  'allow',\n",
       "  'lock',\n",
       "  'lock',\n",
       "  'clearance',\n",
       "  'nice',\n",
       "  'cut',\n",
       "  'out',\n",
       "  'frame',\n",
       "  'horn',\n",
       "  'short',\n",
       "  'horn',\n",
       "  'fair',\n",
       "  'long',\n",
       "  'stick',\n",
       "  'inch',\n",
       "  'really',\n",
       "  'noticable',\n",
       "  'unless',\n",
       "  'look',\n",
       "  'closely',\n",
       "  'end',\n",
       "  'point',\n",
       "  'slightly',\n",
       "  'maybe',\n",
       "  'degrees',\n",
       "  'straight',\n",
       "  'ahead',\n",
       "  'perfect',\n",
       "  'cagers',\n",
       "  'try',\n",
       "  'change',\n",
       "  'lanes',\n",
       "  'question',\n",
       "  'mount',\n",
       "  'email',\n",
       "  'try',\n",
       "  'explain',\n",
       "  'better',\n",
       "  'bike',\n",
       "  'red',\n",
       "  'want',\n",
       "  'paint',\n",
       "  'work',\n",
       "  'ask',\n",
       "  'loud',\n",
       "  'sound',\n",
       "  'like',\n",
       "  'european',\n",
       "  'sport',\n",
       "  'car',\n",
       "  'truck',\n",
       "  'vast',\n",
       "  'improvement',\n",
       "  'stock',\n",
       "  'use',\n",
       "  'daily',\n",
       "  'instal',\n",
       "  'amp',\n",
       "  'fuse',\n",
       "  'blow',\n",
       "  'duration',\n",
       "  'horn',\n",
       "  'blast',\n",
       "  'short',\n",
       "  'repeatedly',\n",
       "  'scar',\n",
       "  'shit',\n",
       "  'friends',\n",
       "  'know',\n",
       "  'horn',\n",
       "  'jump',\n",
       "  'perfect',\n",
       "  'keep',\n",
       "  'pedestrians',\n",
       "  'sidewalk',\n",
       "  'line',\n",
       "  'work',\n",
       "  'loud',\n",
       "  'pain',\n",
       "  'suffer',\n",
       "  'stupid',\n",
       "  'lane',\n",
       "  'change',\n",
       "  'cage',\n",
       "  'years',\n",
       "  'live',\n",
       "  'relatively',\n",
       "  'easy',\n",
       "  'install',\n",
       "  'ymmv'],\n",
       " ['jubilee',\n",
       "  'pope',\n",
       "  'leo',\n",
       "  '12th',\n",
       "  'medallion',\n",
       "  'cast',\n",
       "  'image',\n",
       "  'church',\n",
       "  'rome',\n",
       "  'symbolize',\n",
       "  'woman',\n",
       "  'hold',\n",
       "  'leave',\n",
       "  'hand',\n",
       "  'cross',\n",
       "  'right',\n",
       "  'cup',\n",
       "  'legend',\n",
       "  'sedet',\n",
       "  'super',\n",
       "  'universum',\n",
       "  'world',\n",
       "  'seat',\n",
       "  'read',\n",
       "  'medal',\n",
       "  'worth',\n",
       "  'woman',\n",
       "  'church',\n",
       "  'catholics',\n",
       "  'call',\n",
       "  'church',\n",
       "  'holy',\n",
       "  'mother',\n",
       "  'church',\n",
       "  'mother',\n",
       "  'example',\n",
       "  'cyprian',\n",
       "  'carthage',\n",
       "  'write',\n",
       "  '251',\n",
       "  'god',\n",
       "  'father',\n",
       "  'church',\n",
       "  'mother',\n",
       "  'image',\n",
       "  'church',\n",
       "  'woman',\n",
       "  'hold',\n",
       "  'cross',\n",
       "  'cup',\n",
       "  'tell',\n",
       "  'crucifxition',\n",
       "  'lord',\n",
       "  'power',\n",
       "  'blood',\n",
       "  'grail',\n",
       "  'legend',\n",
       "  'significantly',\n",
       "  'show',\n",
       "  'cup',\n",
       "  'new',\n",
       "  'covenant',\n",
       "  'blood',\n",
       "  'shall',\n",
       "  'luke',\n",
       "  'cup',\n",
       "  'represent',\n",
       "  'new',\n",
       "  'covenant',\n",
       "  'hold',\n",
       "  'blood',\n",
       "  'redemption',\n",
       "  'fact',\n",
       "  'woman',\n",
       "  'hold',\n",
       "  'say',\n",
       "  'world',\n",
       "  'seat',\n",
       "  'catholic',\n",
       "  'church',\n",
       "  'catholic',\n",
       "  'universal',\n",
       "  'world',\n",
       "  'church',\n",
       "  'show',\n",
       "  'crucifixtion',\n",
       "  'apply',\n",
       "  'blood',\n",
       "  'redemption',\n",
       "  'mankind',\n",
       "  'spread',\n",
       "  'thorugh',\n",
       "  'holy',\n",
       "  'sacrafice',\n",
       "  'mass',\n",
       "  'say',\n",
       "  'celebrate',\n",
       "  'nations',\n",
       "  'malachi',\n",
       "  'predict',\n",
       "  'malachi',\n",
       "  'rise',\n",
       "  'sun',\n",
       "  'set',\n",
       "  'great',\n",
       "  'gentiles',\n",
       "  'sacrafice',\n",
       "  'offer',\n",
       "  'clean',\n",
       "  'oblation',\n",
       "  'great',\n",
       "  'gentiles',\n",
       "  'say',\n",
       "  'lord',\n",
       "  'host',\n",
       "  'acknowledge',\n",
       "  'paul',\n",
       "  'write',\n",
       "  'eat',\n",
       "  'bread',\n",
       "  'drink',\n",
       "  'cup',\n",
       "  'lord',\n",
       "  'death',\n",
       "  'come',\n",
       "  'corinthians',\n",
       "  'quite',\n",
       "  'right',\n",
       "  'identification',\n",
       "  'babylon',\n",
       "  'great',\n",
       "  'mother',\n",
       "  'harlots',\n",
       "  'rome',\n",
       "  'think',\n",
       "  'simply',\n",
       "  'disagree',\n",
       "  'time',\n",
       "  'period',\n",
       "  'rome',\n",
       "  'apostle',\n",
       "  'john',\n",
       "  'talk'],\n",
       " ['answer',\n",
       "  'amruth',\n",
       "  'laxman',\n",
       "  'apart',\n",
       "  'fact',\n",
       "  'pull',\n",
       "  'dive',\n",
       "  'figure',\n",
       "  'right',\n",
       "  'sustain',\n",
       "  'protection',\n",
       "  'duration',\n",
       "  'rate',\n",
       "  'onset',\n",
       "  'body',\n",
       "  'position',\n",
       "  'support',\n",
       "  'aid',\n",
       "  'critical',\n",
       "  'part',\n",
       "  'equation',\n",
       "  'remember',\n",
       "  'note',\n",
       "  'instrument',\n",
       "  'gridiron',\n",
       "  'players',\n",
       "  'record',\n",
       "  'peak',\n",
       "  '200g',\n",
       "  'stapp',\n",
       "  'aviation',\n",
       "  'doctor',\n",
       "  'accident',\n",
       "  'design',\n",
       "  'take',\n",
       "  'short',\n",
       "  'period',\n",
       "  '80g',\n",
       "  'rocket',\n",
       "  'sled',\n",
       "  'decelleration',\n",
       "  'eye',\n",
       "  'ball',\n",
       "  'standard',\n",
       "  '1950',\n",
       "  'harness',\n",
       "  'short',\n",
       "  'calculate',\n",
       "  'stop',\n",
       "  'time',\n",
       "  '500',\n",
       "  '600mph',\n",
       "  'bang',\n",
       "  'seat',\n",
       "  'better',\n",
       "  'sit',\n",
       "  'straight',\n",
       "  'book',\n",
       "  'martin',\n",
       "  'bakers',\n",
       "  'human',\n",
       "  'guinea',\n",
       "  'pig',\n",
       "  'hear',\n",
       "  'bad',\n",
       "  'rate',\n",
       "  'onset',\n",
       "  'high',\n",
       "  'recline',\n",
       "  'position',\n",
       "  'good',\n",
       "  'suit',\n",
       "  'pilot',\n",
       "  'function',\n",
       "  '12g',\n",
       "  'flotation',\n",
       "  'tank',\n",
       "  'good',\n",
       "  'bet',\n",
       "  'treat',\n",
       "  'body',\n",
       "  'fluid',\n",
       "  'high',\n",
       "  'pressure',\n",
       "  'situations',\n",
       "  'new',\n",
       "  'figure'],\n",
       " ['whaz',\n",
       "  'earlier',\n",
       "  'read',\n",
       "  'net',\n",
       "  'use',\n",
       "  'splitfire',\n",
       "  'plug',\n",
       "  'guy',\n",
       "  'think',\n",
       "  'everybody',\n",
       "  'shoot',\n",
       "  'hell',\n",
       "  'saw',\n",
       "  'think',\n",
       "  'say',\n",
       "  'team',\n",
       "  'use',\n",
       "  'split',\n",
       "  'fire',\n",
       "  'additional',\n",
       "  'insight',\n",
       "  'theories',\n",
       "  'splitfire',\n",
       "  'plug',\n",
       "  'boost',\n",
       "  'oppossed',\n",
       "  'cage',\n",
       "  'splitfires',\n",
       "  'originally',\n",
       "  'burn',\n",
       "  'fuel',\n",
       "  'efficiently',\n",
       "  'increase',\n",
       "  'power',\n",
       "  '4x4',\n",
       "  'cage',\n",
       "  'guy',\n",
       "  'splitfires',\n",
       "  'increase',\n",
       "  'performance',\n",
       "  'increase',\n",
       "  'torque',\n",
       "  'focus',\n",
       "  'horsepower',\n",
       "  'number',\n",
       "  'relate',\n",
       "  'high',\n",
       "  'performance',\n",
       "  'pilot',\n",
       "  'depend',\n",
       "  'pilot',\n",
       "  'high',\n",
       "  'performance',\n",
       "  'cylinder',\n",
       "  'machine',\n",
       "  'case',\n",
       "  'cylinders',\n",
       "  'splitfires',\n",
       "  'increase',\n",
       "  'overall',\n",
       "  'torque',\n",
       "  'make',\n",
       "  'end',\n",
       "  'horsepower',\n",
       "  'torque',\n",
       "  'pack',\n",
       "  'low',\n",
       "  'splitfires',\n",
       "  'significantly',\n",
       "  'increase',\n",
       "  'power',\n",
       "  'twin',\n",
       "  'guy',\n",
       "  'laugh',\n",
       "  'twin',\n",
       "  'time',\n",
       "  'carry',\n",
       "  'weight',\n",
       "  'make',\n",
       "  'loss',\n",
       "  'doug',\n",
       "  'polen',\n",
       "  'scott',\n",
       "  'russell',\n",
       "  'daytona',\n",
       "  '1992',\n",
       "  'twin',\n",
       "  'make',\n",
       "  'torque',\n",
       "  'thoughout',\n",
       "  'powerbands',\n",
       "  'translate',\n",
       "  'increase',\n",
       "  'torque',\n",
       "  'theoretically',\n",
       "  'help',\n",
       "  'twin',\n",
       "  'make',\n",
       "  'power',\n",
       "  'splitfire',\n",
       "  'claim',\n",
       "  'extra',\n",
       "  'mods',\n",
       "  'stick',\n",
       "  'know',\n",
       "  'try',\n",
       "  'catch',\n",
       "  'somebody',\n",
       "  'splitfires',\n",
       "  'help',\n",
       "  'twin',\n",
       "  'far',\n",
       "  'race',\n",
       "  'team',\n",
       "  'ducati',\n",
       "  'team',\n",
       "  'fast',\n",
       "  'ferraci',\n",
       "  'use',\n",
       "  'splitfires',\n",
       "  '1989',\n",
       "  'season',\n",
       "  'jamie',\n",
       "  'jam',\n",
       "  'run',\n",
       "  'know',\n",
       "  'stop',\n",
       "  'somebody',\n",
       "  'check',\n",
       "  'peace',\n",
       "  'warren',\n",
       "  'suzuki',\n",
       "  'travel',\n",
       "  'local',\n",
       "  'fix',\n",
       "  'shop',\n",
       "  'bike',\n",
       "  'repairest',\n",
       "  'look',\n",
       "  'dump',\n",
       "  'ask',\n",
       "  'guy',\n",
       "  'happen',\n",
       "  'dump',\n",
       "  'clutch',\n",
       "  'fast',\n",
       "  'pretty',\n",
       "  'fast',\n",
       "  'insurance',\n",
       "  'nope',\n",
       "  'fixer',\n",
       "  'smile'])"
      ]
     },
     "execution_count": 1674,
     "metadata": {},
     "output_type": "execute_result"
    }
   ],
   "source": [
    "test, test4, test6, test7,test5"
   ]
  },
  {
   "cell_type": "markdown",
   "metadata": {},
   "source": [
    "#### Classification. Apriory knoweledge."
   ]
  },
  {
   "cell_type": "markdown",
   "metadata": {},
   "source": [
    "После того, как проверили работу токенизатора, извлечем фичи из текста с использованием TF-IDF."
   ]
  },
  {
   "cell_type": "code",
   "execution_count": 1704,
   "metadata": {},
   "outputs": [],
   "source": [
    "vectorizer = TfidfVectorizer(stop_words=StopWords,\n",
    "                             tokenizer=tokenize, \n",
    "                             #min_df=2, # ignore terms with freq less that 0.05, lower majoring\n",
    "                             #max_df=0.7, # ignore terms with freq more that n, upper majoring\n",
    "                             #max_features=55000,\n",
    "                             use_idf=True,  \n",
    "                             sublinear_tf=True,\n",
    "                             norm='l2',\n",
    "                             ngram_range= (1, 3)\n",
    "                            )"
   ]
  },
  {
   "cell_type": "code",
   "execution_count": 1705,
   "metadata": {},
   "outputs": [
    {
     "name": "stderr",
     "output_type": "stream",
     "text": [
      "C:\\Anaconda\\lib\\site-packages\\sklearn\\feature_extraction\\text.py:300: UserWarning: Your stop_words may be inconsistent with your preprocessing. Tokenizing the stop words generated tokens ['ann', 'anne', 'barbara', 'bette', 'carol', 'christophe', 'corinne', 'david', 'diana', 'diane', 'elizabeth', 'elle', 'francois', 'grace', 'hans', 'helen', 'holly', 'jean', 'jeanne', 'john', 'kara', 'kathryn', 'lane', 'lou', 'luc', 'lynn', 'mar', 'marc', 'mari', 'maria', 'marie', 'patrick', 'paul', 'paula', 'peter', 'pierre', 'sara', 'shall', 'sheila', 'sue', 'terri', 'theresa'] not in stop_words.\n",
      "  'stop_words.' % sorted(inconsistent))\n",
      "C:\\Anaconda\\lib\\site-packages\\bs4\\__init__.py:273: UserWarning: \"b'...'\" looks like a filename, not markup. You should probably open this file and pass the filehandle into Beautiful Soup.\n",
      "  ' Beautiful Soup.' % markup)\n",
      "C:\\Anaconda\\lib\\site-packages\\bs4\\__init__.py:273: UserWarning: \"b'...'\" looks like a filename, not markup. You should probably open this file and pass the filehandle into Beautiful Soup.\n",
      "  ' Beautiful Soup.' % markup)\n",
      "C:\\Anaconda\\lib\\site-packages\\bs4\\__init__.py:273: UserWarning: \"b'.'\" looks like a filename, not markup. You should probably open this file and pass the filehandle into Beautiful Soup.\n",
      "  ' Beautiful Soup.' % markup)\n"
     ]
    },
    {
     "name": "stdout",
     "output_type": "stream",
     "text": [
      "Wall time: 3min 2s\n"
     ]
    }
   ],
   "source": [
    "%%time\n",
    "vectorised_train_documents = vectorizer.fit_transform(train_texts.data)\n",
    "vectorised_test_documents = vectorizer.transform(test_texts.data)"
   ]
  },
  {
   "cell_type": "markdown",
   "metadata": {},
   "source": [
    "Выделим метки для трейн/тест датасетов."
   ]
  },
  {
   "cell_type": "code",
   "execution_count": 1706,
   "metadata": {},
   "outputs": [],
   "source": [
    "y_train, y_test = train_texts.target, test_texts.target"
   ]
  },
  {
   "cell_type": "markdown",
   "metadata": {},
   "source": [
    "Дополним код вспомогательными функциями, которые будет производить:\n",
    "- построение матрицы классификации.\n",
    "- обучение и проверку работы классификатора, с заданными параметрами."
   ]
  },
  {
   "cell_type": "code",
   "execution_count": 1707,
   "metadata": {},
   "outputs": [],
   "source": [
    "def plot_confusion_matrix(cm, classes,\n",
    "                          normalize=False,\n",
    "                          title='Confusion matrix',\n",
    "                          cmap=plt.cm.Paired):\n",
    "    \"\"\"\n",
    "    This function prints and plots the confusion matrix.\n",
    "    Normalization can be applied by setting `normalize=True`.\n",
    "    \"\"\"\n",
    "    if normalize:\n",
    "        cm = cm.astype('float') / cm.sum(axis=1)[:, np.newaxis]\n",
    "        print(\"Normalized confusion matrix\")\n",
    "    else:\n",
    "        print('Confusion matrix, without normalization')\n",
    "\n",
    "    #print(cm)\n",
    "    plt.figure(figsize=(20,12))\n",
    "    plt.imshow(cm, interpolation='nearest', cmap=cmap)\n",
    "    plt.title(title)\n",
    "    plt.colorbar()\n",
    "    tick_marks = np.arange(len(classes))\n",
    "    plt.xticks(tick_marks, classes, rotation=90)\n",
    "    plt.yticks(tick_marks, classes)\n",
    "\n",
    "    fmt = '.2f' if normalize else 'd'\n",
    "    thresh = cm.max() / 2.\n",
    "    for i, j in itertools.product(range(cm.shape[0]), range(cm.shape[1])):\n",
    "        plt.text(j, i, format(cm[i, j], fmt),\n",
    "                 horizontalalignment=\"center\",\n",
    "                 color=\"black\" if cm[i, j] > thresh else \"black\")\n",
    "\n",
    "    plt.ylabel('True label')\n",
    "    plt.xlabel('Predicted label')\n",
    "    plt.tight_layout()"
   ]
  },
  {
   "cell_type": "code",
   "execution_count": 1708,
   "metadata": {},
   "outputs": [],
   "source": [
    "#simple variant\n",
    "def classify_and_score(classifier, X_train, X_test, y_train, y_test):\n",
    "    clf = classifier\n",
    "    clf.fit(X_train, y_train)\n",
    "\n",
    "    pred_train = clf.predict(X_train)\n",
    "    #print (\"Train score\")\n",
    "    f1_train = f1_score(y_train, pred_train, average='micro')\n",
    "\n",
    "    #print (\"Test score\")\n",
    "    pred_test = clf.predict(X_test)\n",
    "    f1_test = f1_score(y_test, pred_test, average='micro')\n",
    "    \n",
    "    return f1_train, f1_test, clf"
   ]
  },
  {
   "cell_type": "markdown",
   "metadata": {},
   "source": [
    "Для удобства, результирующие метрики будем сохранять в df."
   ]
  },
  {
   "cell_type": "code",
   "execution_count": 1709,
   "metadata": {},
   "outputs": [],
   "source": [
    "results_df = []\n",
    "results_df = pd.DataFrame(columns=('Algorithm', 'Train_score', 'Test_score', 'parameters'))"
   ]
  },
  {
   "cell_type": "code",
   "execution_count": 1710,
   "metadata": {},
   "outputs": [],
   "source": [
    "#variant with pipeline and cv\n",
    "'''def classify_and_score(classifier, X_train, X_test, y_train, y_test):\n",
    "    tfidf_params = {\n",
    "        'stop_words' : StopWords,\n",
    "        'tokenizer':tokenize,\n",
    "        'use_idf':True,\n",
    "        'sublinear_tf':True,\n",
    "        'norm':'l2'\n",
    "    }\n",
    "    clf = Pipeline([('vect', TfidfVectorizer(** tfidf_params)), ('classifier', classifier)])\n",
    "    \n",
    "    clf.fit(X_train, y_train)\n",
    "\n",
    "    pred_train = clf.predict(X_train)\n",
    "    #print (\"Train score\")\n",
    "    f1_train = f1_score(y_train, pred_train, average='micro')\n",
    "\n",
    "    #print (\"Test score\")\n",
    "    #pred_test = clf.predict(X_test)\n",
    "    #f1_test = f1_score(y_test, pred_test, average='micro')\n",
    "    \n",
    "    my_scorer = make_scorer(f1_score, average='weighted')\n",
    "    skv = StratifiedKFold(n_splits = 3,random_state=seed, shuffle=True)\n",
    "    f1_test = cross_val_score(clf, X_test, y_test, cv=skv, scoring=my_scorer,n_jobs = -1).mean()\n",
    "    \n",
    "    return f1_train, f1_test\n",
    "\n",
    "\n",
    "alphas = [0.01 , 0.015, 0.02]\n",
    "\n",
    "for alph in tqdm(alphas):\n",
    "    a = \"MultinomialNB\"\n",
    "    b,c = classify_and_score(MultinomialNB(alpha=alph), train_texts.data, \n",
    "                           test_texts.data, y_train, y_test)\n",
    "    d = \"alpha = \" + str(alph)\n",
    "\n",
    "    results_df = results_df.append({'Algorithm':a, 'Train_score':b,'Test_score':c, 'parameters':d},ignore_index=True)\n",
    "    \n",
    "    ''';"
   ]
  },
  {
   "cell_type": "markdown",
   "metadata": {},
   "source": [
    "Проверим работу алгоритмов:\n",
    "- MultinomialNB"
   ]
  },
  {
   "cell_type": "code",
   "execution_count": 1711,
   "metadata": {
    "scrolled": true
   },
   "outputs": [
    {
     "name": "stderr",
     "output_type": "stream",
     "text": [
      "\n",
      "\n",
      "  0%|                                                                                           | 0/51 [00:00<?, ?it/s]\n",
      "\n",
      "  2%|█▋                                                                                 | 1/51 [00:04<03:55,  4.70s/it]\n",
      "\n",
      "  4%|███▎                                                                               | 2/51 [00:10<04:08,  5.07s/it]\n",
      "\n",
      "  6%|████▉                                                                              | 3/51 [00:12<03:18,  4.13s/it]\n",
      "\n",
      "  8%|██████▌                                                                            | 4/51 [00:14<02:40,  3.42s/it]\n",
      "\n",
      " 10%|████████▏                                                                          | 5/51 [00:16<02:14,  2.93s/it]\n",
      "\n",
      " 12%|█████████▊                                                                         | 6/51 [00:17<01:56,  2.60s/it]\n",
      "\n",
      " 14%|███████████▍                                                                       | 7/51 [00:19<01:43,  2.35s/it]\n",
      "\n",
      " 16%|█████████████                                                                      | 8/51 [00:21<01:33,  2.17s/it]\n",
      "\n",
      " 18%|██████████████▋                                                                    | 9/51 [00:23<01:25,  2.04s/it]\n",
      "\n",
      " 20%|████████████████                                                                  | 10/51 [00:24<01:18,  1.92s/it]\n",
      "\n",
      " 22%|█████████████████▋                                                                | 11/51 [00:26<01:13,  1.85s/it]\n",
      "\n",
      " 24%|███████████████████▎                                                              | 12/51 [00:28<01:12,  1.86s/it]\n",
      "\n",
      " 25%|████████████████████▉                                                             | 13/51 [00:30<01:08,  1.80s/it]\n",
      "\n",
      " 27%|██████████████████████▌                                                           | 14/51 [00:31<01:06,  1.80s/it]\n",
      "\n",
      " 29%|████████████████████████                                                          | 15/51 [00:33<01:02,  1.74s/it]\n",
      "\n",
      " 31%|█████████████████████████▋                                                        | 16/51 [00:35<01:00,  1.74s/it]\n",
      "\n",
      " 33%|███████████████████████████▎                                                      | 17/51 [00:36<00:58,  1.72s/it]\n",
      "\n",
      " 35%|████████████████████████████▉                                                     | 18/51 [00:38<00:56,  1.72s/it]\n",
      "\n",
      " 37%|██████████████████████████████▌                                                   | 19/51 [00:40<00:56,  1.77s/it]\n",
      "\n",
      " 39%|████████████████████████████████▏                                                 | 20/51 [00:42<01:01,  1.99s/it]\n",
      "\n",
      " 41%|█████████████████████████████████▊                                                | 21/51 [00:46<01:10,  2.35s/it]\n",
      "\n",
      " 43%|███████████████████████████████████▎                                              | 22/51 [00:47<01:03,  2.18s/it]\n",
      "\n",
      " 45%|████████████████████████████████████▉                                             | 23/51 [00:49<00:57,  2.04s/it]\n",
      "\n",
      " 47%|██████████████████████████████████████▌                                           | 24/51 [00:51<00:53,  1.96s/it]\n",
      "\n",
      " 49%|████████████████████████████████████████▏                                         | 25/51 [00:53<00:49,  1.89s/it]\n",
      "\n",
      " 51%|█████████████████████████████████████████▊                                        | 26/51 [00:55<00:47,  1.91s/it]\n",
      "\n",
      " 53%|███████████████████████████████████████████▍                                      | 27/51 [00:56<00:44,  1.84s/it]\n",
      "\n",
      " 55%|█████████████████████████████████████████████                                     | 28/51 [00:58<00:41,  1.82s/it]\n",
      "\n",
      " 57%|██████████████████████████████████████████████▋                                   | 29/51 [01:00<00:39,  1.82s/it]\n",
      "\n",
      " 59%|████████████████████████████████████████████████▏                                 | 30/51 [01:02<00:36,  1.76s/it]\n",
      "\n",
      " 61%|█████████████████████████████████████████████████▊                                | 31/51 [01:03<00:34,  1.72s/it]\n",
      "\n",
      " 63%|███████████████████████████████████████████████████▍                              | 32/51 [01:05<00:33,  1.75s/it]\n",
      "\n",
      " 65%|█████████████████████████████████████████████████████                             | 33/51 [01:07<00:30,  1.71s/it]\n",
      "\n",
      " 67%|██████████████████████████████████████████████████████▋                           | 34/51 [01:08<00:28,  1.68s/it]\n",
      "\n",
      " 69%|████████████████████████████████████████████████████████▎                         | 35/51 [01:10<00:27,  1.71s/it]\n",
      "\n",
      " 71%|█████████████████████████████████████████████████████████▉                        | 36/51 [01:12<00:25,  1.73s/it]\n",
      "\n",
      " 73%|███████████████████████████████████████████████████████████▍                      | 37/51 [01:13<00:23,  1.71s/it]\n",
      "\n",
      " 75%|█████████████████████████████████████████████████████████████                     | 38/51 [01:15<00:21,  1.69s/it]\n",
      "\n",
      " 76%|██████████████████████████████████████████████████████████████▋                   | 39/51 [01:17<00:20,  1.69s/it]\n",
      "\n",
      " 78%|████████████████████████████████████████████████████████████████▎                 | 40/51 [01:19<00:19,  1.75s/it]\n",
      "\n",
      " 80%|█████████████████████████████████████████████████████████████████▉                | 41/51 [01:20<00:17,  1.74s/it]\n",
      "\n",
      " 82%|███████████████████████████████████████████████████████████████████▌              | 42/51 [01:22<00:15,  1.73s/it]\n",
      "\n",
      " 84%|█████████████████████████████████████████████████████████████████████▏            | 43/51 [01:24<00:13,  1.70s/it]\n",
      "\n",
      " 86%|██████████████████████████████████████████████████████████████████████▋           | 44/51 [01:25<00:11,  1.71s/it]\n",
      "\n",
      " 88%|████████████████████████████████████████████████████████████████████████▎         | 45/51 [01:27<00:10,  1.69s/it]\n",
      "\n",
      " 90%|█████████████████████████████████████████████████████████████████████████▉        | 46/51 [01:29<00:08,  1.73s/it]\n",
      "\n",
      " 92%|███████████████████████████████████████████████████████████████████████████▌      | 47/51 [01:31<00:06,  1.70s/it]\n",
      "\n",
      " 94%|█████████████████████████████████████████████████████████████████████████████▏    | 48/51 [01:32<00:05,  1.70s/it]\n",
      "\n",
      " 96%|██████████████████████████████████████████████████████████████████████████████▊   | 49/51 [01:34<00:03,  1.68s/it]\n",
      "\n",
      " 98%|████████████████████████████████████████████████████████████████████████████████▍ | 50/51 [01:36<00:01,  1.70s/it]\n",
      "\n",
      "100%|██████████████████████████████████████████████████████████████████████████████████| 51/51 [01:37<00:00,  1.72s/it]\n",
      "\n"
     ]
    }
   ],
   "source": [
    "#actual block of code\n",
    "alphas = [0.0001,0.001,0.005 ,0.01 , 0.015, 0.02 , 0.025, 0.03 , 0.035, 0.04 , 0.045, 0.05 ,\n",
    "       0.055, 0.06 , 0.065, 0.07 , 0.075, 0.08 , 0.085, 0.09 , 0.095,\n",
    "       0.1  , 0.105, 0.11 , 0.115, 0.12 , 0.125, 0.13 , 0.135, 0.14 ,\n",
    "       0.145, 0.15 , 0.155, 0.16 , 0.165, 0.17 , 0.175, 0.18 , 0.185,\n",
    "       0.19 , 0.195, 0.31, 0.41, 0.51, 0.61, 0.71, 0.81, 0.91, 1.01,2,5]\n",
    "\n",
    "for alph in tqdm(alphas):\n",
    "    f_el = \"MultinomialNB\"\n",
    "    s_el,t_el,_ = classify_and_score(MultinomialNB(alpha=alph), vectorised_train_documents, \n",
    "                           vectorised_test_documents, y_train, y_test)\n",
    "    f0_el = \"alpha = \" + str(alph)\n",
    "\n",
    "    results_df = results_df.append({'Algorithm':f_el, 'Train_score':s_el,\n",
    "                                    'Test_score':t_el, 'parameters':f0_el},ignore_index=True)"
   ]
  },
  {
   "cell_type": "markdown",
   "metadata": {},
   "source": [
    "- BernoulliNB"
   ]
  },
  {
   "cell_type": "code",
   "execution_count": 1300,
   "metadata": {
    "scrolled": true
   },
   "outputs": [
    {
     "name": "stderr",
     "output_type": "stream",
     "text": [
      "\n",
      "\n",
      "  0%|                                                                                           | 0/51 [00:00<?, ?it/s]\n",
      "\n",
      "  2%|█▋                                                                                 | 1/51 [00:00<00:10,  4.69it/s]\n",
      "\n",
      "  4%|███▎                                                                               | 2/51 [00:00<00:10,  4.73it/s]\n",
      "\n",
      "  6%|████▉                                                                              | 3/51 [00:00<00:09,  4.96it/s]\n",
      "\n",
      "  8%|██████▌                                                                            | 4/51 [00:00<00:09,  5.14it/s]\n",
      "\n",
      " 10%|████████▏                                                                          | 5/51 [00:00<00:08,  5.26it/s]\n",
      "\n",
      " 12%|█████████▊                                                                         | 6/51 [00:01<00:08,  5.33it/s]\n",
      "\n",
      " 14%|███████████▍                                                                       | 7/51 [00:01<00:08,  5.36it/s]\n",
      "\n",
      " 16%|█████████████                                                                      | 8/51 [00:01<00:08,  5.11it/s]\n",
      "\n",
      " 18%|██████████████▋                                                                    | 9/51 [00:01<00:08,  5.00it/s]\n",
      "\n",
      " 20%|████████████████                                                                  | 10/51 [00:01<00:07,  5.17it/s]\n",
      "\n",
      " 22%|█████████████████▋                                                                | 11/51 [00:02<00:07,  5.33it/s]\n",
      "\n",
      " 24%|███████████████████▎                                                              | 12/51 [00:02<00:07,  5.47it/s]\n",
      "\n",
      " 25%|████████████████████▉                                                             | 13/51 [00:02<00:06,  5.61it/s]\n",
      "\n",
      " 27%|██████████████████████▌                                                           | 14/51 [00:02<00:06,  5.55it/s]\n",
      "\n",
      " 29%|████████████████████████                                                          | 15/51 [00:02<00:06,  5.58it/s]\n",
      "\n",
      " 31%|█████████████████████████▋                                                        | 16/51 [00:02<00:06,  5.46it/s]\n",
      "\n",
      " 33%|███████████████████████████▎                                                      | 17/51 [00:03<00:06,  5.41it/s]\n",
      "\n",
      " 35%|████████████████████████████▉                                                     | 18/51 [00:03<00:05,  5.55it/s]\n",
      "\n",
      " 37%|██████████████████████████████▌                                                   | 19/51 [00:03<00:05,  5.54it/s]\n",
      "\n",
      " 39%|████████████████████████████████▏                                                 | 20/51 [00:03<00:05,  5.62it/s]\n",
      "\n",
      " 41%|█████████████████████████████████▊                                                | 21/51 [00:03<00:05,  5.26it/s]\n",
      "\n",
      " 43%|███████████████████████████████████▎                                              | 22/51 [00:04<00:05,  5.16it/s]\n",
      "\n",
      " 45%|████████████████████████████████████▉                                             | 23/51 [00:04<00:05,  5.41it/s]\n",
      "\n",
      " 47%|██████████████████████████████████████▌                                           | 24/51 [00:04<00:04,  5.53it/s]\n",
      "\n",
      " 49%|████████████████████████████████████████▏                                         | 25/51 [00:04<00:04,  5.58it/s]\n",
      "\n",
      " 51%|█████████████████████████████████████████▊                                        | 26/51 [00:04<00:04,  5.57it/s]\n",
      "\n",
      " 53%|███████████████████████████████████████████▍                                      | 27/51 [00:04<00:04,  5.64it/s]\n",
      "\n",
      " 55%|█████████████████████████████████████████████                                     | 28/51 [00:05<00:03,  5.79it/s]\n",
      "\n",
      " 57%|██████████████████████████████████████████████▋                                   | 29/51 [00:05<00:04,  5.22it/s]\n",
      "\n",
      " 59%|████████████████████████████████████████████████▏                                 | 30/51 [00:05<00:04,  4.32it/s]\n",
      "\n",
      " 61%|█████████████████████████████████████████████████▊                                | 31/51 [00:05<00:04,  4.52it/s]\n",
      "\n",
      " 63%|███████████████████████████████████████████████████▍                              | 32/51 [00:06<00:04,  4.66it/s]\n",
      "\n",
      " 65%|█████████████████████████████████████████████████████                             | 33/51 [00:06<00:05,  3.20it/s]\n",
      "\n",
      " 67%|██████████████████████████████████████████████████████▋                           | 34/51 [00:07<00:05,  3.09it/s]\n",
      "\n",
      " 69%|████████████████████████████████████████████████████████▎                         | 35/51 [00:07<00:06,  2.43it/s]\n",
      "\n",
      " 71%|█████████████████████████████████████████████████████████▉                        | 36/51 [00:08<00:07,  2.12it/s]\n",
      "\n",
      " 73%|███████████████████████████████████████████████████████████▍                      | 37/51 [00:08<00:07,  1.88it/s]\n",
      "\n",
      " 75%|█████████████████████████████████████████████████████████████                     | 38/51 [00:09<00:07,  1.76it/s]\n",
      "\n",
      " 76%|██████████████████████████████████████████████████████████████▋                   | 39/51 [00:10<00:06,  1.73it/s]\n",
      "\n",
      " 78%|████████████████████████████████████████████████████████████████▎                 | 40/51 [00:10<00:06,  1.67it/s]\n",
      "\n",
      " 80%|█████████████████████████████████████████████████████████████████▉                | 41/51 [00:11<00:05,  1.78it/s]\n",
      "\n",
      " 82%|███████████████████████████████████████████████████████████████████▌              | 42/51 [00:11<00:04,  2.15it/s]\n",
      "\n",
      " 84%|█████████████████████████████████████████████████████████████████████▏            | 43/51 [00:11<00:03,  2.64it/s]\n",
      "\n",
      " 86%|██████████████████████████████████████████████████████████████████████▋           | 44/51 [00:11<00:02,  3.11it/s]\n",
      "\n",
      " 88%|████████████████████████████████████████████████████████████████████████▎         | 45/51 [00:12<00:01,  3.55it/s]\n",
      "\n",
      " 90%|█████████████████████████████████████████████████████████████████████████▉        | 46/51 [00:12<00:01,  3.98it/s]\n",
      "\n",
      " 92%|███████████████████████████████████████████████████████████████████████████▌      | 47/51 [00:12<00:00,  4.39it/s]\n",
      "\n",
      " 94%|█████████████████████████████████████████████████████████████████████████████▏    | 48/51 [00:12<00:00,  4.69it/s]\n",
      "\n",
      " 96%|██████████████████████████████████████████████████████████████████████████████▊   | 49/51 [00:12<00:00,  4.84it/s]\n",
      "\n",
      " 98%|████████████████████████████████████████████████████████████████████████████████▍ | 50/51 [00:12<00:00,  5.08it/s]\n",
      "\n",
      "100%|██████████████████████████████████████████████████████████████████████████████████| 51/51 [00:13<00:00,  5.22it/s]\n",
      "\n"
     ]
    }
   ],
   "source": [
    "for alph in tqdm(alphas):\n",
    "    f_el = \"BernoulliNB\"\n",
    "    s_el,t_el,_ = classify_and_score(BernoulliNB(alpha=alph), vectorised_train_documents, \n",
    "                           vectorised_test_documents, y_train, y_test)\n",
    "    f0_el = \"alpha = \" + str(alph)\n",
    "\n",
    "    results_df = results_df.append({'Algorithm':f_el, 'Train_score':s_el,\n",
    "                                    'Test_score':t_el, 'parameters':f0_el},ignore_index=True)"
   ]
  },
  {
   "cell_type": "markdown",
   "metadata": {},
   "source": [
    "Выведем наилучший достигнутый результат."
   ]
  },
  {
   "cell_type": "code",
   "execution_count": 1713,
   "metadata": {},
   "outputs": [
    {
     "name": "stdout",
     "output_type": "stream",
     "text": [
      "       Algorithm  Train_score  Test_score     parameters\n",
      "4  MultinomialNB     0.970656    0.701275  alpha = 0.015\n"
     ]
    }
   ],
   "source": [
    "best_param = results_df[results_df.Test_score ==  results_df.Test_score.max()]['parameters'].values[0]\n",
    "print (results_df[results_df.Test_score ==  results_df.Test_score.max()])\n",
    "\n",
    "'''\n",
    "6    MultinomialNB     0.951741       0.687865  alpha = 0.025\n",
    "304  MultinomialNB     0.970479       0.687865  alpha = 0.015\n",
    "16  MultinomialNB     0.938041    0.695035  alpha = 0.075 without two new functions\n",
    "8  MultinomialNB     0.944317    0.696893  alpha = 0.035 45000 features\n",
    "7  MultinomialNB      0.94741    0.697424  alpha = 0.03 55000 features\n",
    "15  MultinomialNB     0.947941    0.695698   alpha = 0.07 # ngrams 1,3 and 55000 features\n",
    "# with ngrams but without max features\n",
    "''';"
   ]
  },
  {
   "cell_type": "markdown",
   "metadata": {},
   "source": [
    "Для проверки результатов выведем classification_report и построим матрицу классификации."
   ]
  },
  {
   "cell_type": "code",
   "execution_count": 1714,
   "metadata": {},
   "outputs": [
    {
     "name": "stdout",
     "output_type": "stream",
     "text": [
      "                          precision    recall  f1-score   support\n",
      "\n",
      "             alt.atheism       0.75      0.34      0.47       319\n",
      "           comp.graphics       0.69      0.69      0.69       389\n",
      " comp.os.ms-windows.misc       0.70      0.55      0.62       394\n",
      "comp.sys.ibm.pc.hardware       0.64      0.71      0.67       392\n",
      "   comp.sys.mac.hardware       0.76      0.67      0.71       385\n",
      "          comp.windows.x       0.77      0.78      0.77       395\n",
      "            misc.forsale       0.79      0.76      0.78       390\n",
      "               rec.autos       0.84      0.72      0.77       396\n",
      "         rec.motorcycles       0.80      0.74      0.77       398\n",
      "      rec.sport.baseball       0.93      0.81      0.86       397\n",
      "        rec.sport.hockey       0.59      0.93      0.72       399\n",
      "               sci.crypt       0.66      0.80      0.73       396\n",
      "         sci.electronics       0.75      0.58      0.66       393\n",
      "                 sci.med       0.81      0.77      0.79       396\n",
      "               sci.space       0.78      0.80      0.79       394\n",
      "  soc.religion.christian       0.46      0.91      0.61       398\n",
      "      talk.politics.guns       0.58      0.73      0.65       364\n",
      "   talk.politics.mideast       0.74      0.81      0.78       376\n",
      "      talk.politics.misc       0.74      0.42      0.54       310\n",
      "      talk.religion.misc       0.75      0.12      0.21       251\n",
      "\n",
      "               micro avg       0.70      0.70      0.70      7532\n",
      "               macro avg       0.73      0.68      0.68      7532\n",
      "            weighted avg       0.73      0.70      0.69      7532\n",
      "\n",
      "Confusion matrix, without normalization\n",
      "None\n"
     ]
    },
    {
     "data": {
      "image/png": "[encoded data removed]",
      "text/plain": [
       "<Figure size 1440x864 with 2 Axes>"
      ]
     },
     "metadata": {},
     "output_type": "display_data"
    }
   ],
   "source": [
    "_,_,clf =  classify_and_score(MultinomialNB(alpha = 0.03), vectorised_train_documents, \n",
    "                                        vectorised_test_documents, y_train, y_test)\n",
    "\n",
    "pred_test = clf.predict(vectorised_test_documents)\n",
    "print(classification_report(y_test,pred_test,target_names = newsgroups_all.target_names))\n",
    "\n",
    "cnf_matrix = confusion_matrix(y_test, pred_test)\n",
    "print(plot_confusion_matrix(cnf_matrix, classes = newsgroups_all.target_names))\n"
   ]
  },
  {
   "cell_type": "code",
   "execution_count": 1715,
   "metadata": {},
   "outputs": [
    {
     "data": {
      "text/plain": [
       "1604550"
      ]
     },
     "execution_count": 1715,
     "metadata": {},
     "output_type": "execute_result"
    }
   ],
   "source": [
    "len(vectorizer.get_feature_names())"
   ]
  },
  {
   "cell_type": "code",
   "execution_count": 1716,
   "metadata": {},
   "outputs": [
    {
     "data": {
      "text/plain": [
       "1604550"
      ]
     },
     "execution_count": 1716,
     "metadata": {},
     "output_type": "execute_result"
    }
   ],
   "source": [
    "len(clf.coef_[0])"
   ]
  },
  {
   "cell_type": "code",
   "execution_count": 1689,
   "metadata": {},
   "outputs": [
    {
     "data": {
      "text/plain": [
       "[-5.875706790992062,\n",
       " -5.975475480964541,\n",
       " -6.093672572220971,\n",
       " -6.18596922548285,\n",
       " -6.307591678765888,\n",
       " -6.386860462513911,\n",
       " -6.410269049380522,\n",
       " -6.474887344191337,\n",
       " -6.499298092442232,\n",
       " -6.585775113458549]"
      ]
     },
     "execution_count": 1689,
     "metadata": {},
     "output_type": "execute_result"
    },
    {
     "name": "stdout",
     "output_type": "stream",
     "text": [
      "['zubov' 'zubov' 'zterm' 'zterm' 'zterm' 'zterm' 'zterm' 'zterm' 'zterm'\n",
      " 'zterm']\n"
     ]
    }
   ],
   "source": [
    "sorted(clf.coef_[0],reverse=True)[:10]\n",
    "\n",
    "print(np.take(vectorizer.get_feature_names(), sorted(clf.coef_[0, :],reverse=True)[:10]))"
   ]
  },
  {
   "cell_type": "code",
   "execution_count": 1729,
   "metadata": {
    "scrolled": false
   },
   "outputs": [
    {
     "name": "stdout",
     "output_type": "stream",
     "text": [
      "0\n",
      "alt.atheism\n",
      "['christ' 'christians' 'want' 'scripture' 'christian' 'sin' 'heaven'\n",
      " 'israel' 'use' 'children']\n",
      "1\n",
      "comp.graphics\n",
      "['drive' 'people' 'key' 'monitor' 'window' 'windows' 'widget' 'disk'\n",
      " 'make' 'sale']\n",
      "2\n",
      "comp.os.ms-windows.misc\n",
      "['comp windows' 'comp' 'image' 'board' 'bite' 'x11r5' 'server' 'power'\n",
      " 'motif' 'graphics']\n",
      "3\n",
      "comp.sys.ibm.pc.hardware\n",
      "['mac' 'apple' 'latest' 'car' 'sun' 'sale' 'brand new' 'include' 'code'\n",
      " 'items']\n",
      "4\n",
      "comp.sys.mac.hardware\n",
      "['windows' 'controller' 'ide' 'car' 'bios' 'offer' 'file' 'gateway'\n",
      " 'condition' '486']\n",
      "5\n",
      "comp.windows.x\n",
      "['mac' 'card' 'post' 'vga' 'drive' 'disk' 'computer' 'apple' 'monitor'\n",
      " 'power']\n",
      "6\n",
      "misc.forsale\n",
      "['help' 'think' 'know' 'appreciate' 'tell' 'read' 'sell sign' 'problem'\n",
      " 'try' 'mac']\n",
      "7\n",
      "rec.autos\n",
      "['bike' 'card' 'game' 'use' 'program' 'file' 'gun' 'work' 'board' 'apple']\n",
      "8\n",
      "rec.motorcycles\n",
      "['use' 'believe' 'game' 'government' 'power' 'key' 'team' 'space' 'card'\n",
      " 'problem']\n",
      "9\n",
      "rec.sport.baseball\n",
      "['hockey' 'nhl' 'leaf' 'playoffs' 'ice' 'wing' 'goals' 'car' 'use'\n",
      " 'people']\n",
      "10\n",
      "rec.sport.hockey\n",
      "['pitch' 'run' 'brave' 'bat' 'use' 'phillies' 'sox' 'work' 'mets'\n",
      " 'baseball']\n",
      "11\n",
      "sci.crypt\n",
      "['gun' 'windows' 'help' 'drive' 'god' 'keyboard' 'image' 'thank' 'israel'\n",
      " 'year']\n",
      "12\n",
      "sci.electronics\n",
      "['windows' 'mac' 'bike' 'sale' 'file' 'clipper' 'government' 'apple'\n",
      " 'scsi' 'year']\n",
      "13\n",
      "sci.med\n",
      "['god' 'space' 'government' 'car' 'gun' 'game' 'drive' 'file' 'power'\n",
      " 'bike']\n",
      "14\n",
      "sci.space\n",
      "['drive' 'windows' 'car' 'best' 'chip' 'run' 'game' 'graphics' 'god'\n",
      " 'computer']\n",
      "15\n",
      "soc.religion.christian\n",
      "['atheism' 'use' 'islam' 'kill' 'morality' 'guy' 'kent' 'anti'\n",
      " 'government' 'game']\n",
      "16\n",
      "talk.politics.guns\n",
      "['israel' 'key' 'new' 'israeli' 'encryption' 'game' 'bike' 'car' 'god'\n",
      " 'program']\n",
      "17\n",
      "talk.politics.mideast\n",
      "['god' 'use' 'jesus' 'gun' 'look' 'christ' 'game' 'drug' 'space' 'new']\n",
      "18\n",
      "talk.politics.misc\n",
      "['gun' 'god' 'car' 'israel' 'team' 'israeli' 'encryption' 'jesus' 'chip'\n",
      " 'space']\n",
      "19\n",
      "talk.religion.misc\n",
      "['able' 'thank' 'right' 'year' 'best' 'problem' 'idea' 'claim objective'\n",
      " 'atheist' 'use']\n"
     ]
    }
   ],
   "source": [
    "for cls in range(len(clf.coef_)):\n",
    "    print (cls)\n",
    "    print (newsgroups_all.target_names[cls])\n",
    "    neg_class_prob_sorted = clf.coef_[cls, :].argsort()\n",
    "    print(np.take(vectorizer.get_feature_names(), neg_class_prob_sorted[:10]))"
   ]
  },
  {
   "cell_type": "code",
   "execution_count": 1734,
   "metadata": {},
   "outputs": [],
   "source": [
    "def show_most_informative_features(vectorizer, clf, n=20):\n",
    "    aa = []\n",
    "    feature_names = vectorizer.get_feature_names()\n",
    "    coefs_with_fns = sorted(zip(clf.coef_[19], feature_names))\n",
    "    top = zip(coefs_with_fns[:n], coefs_with_fns[:-(n + 1):-1])\n",
    "    for (coef_1, fn_1), (coef_2, fn_2) in top:\n",
    "        print (\"\\t%.4f\\t%-15s\\t\\t%.4f\\t%-15s\" % (coef_1, fn_1, coef_2, fn_2))\n",
    "        aa.append(fn_1)\n",
    "        \n",
    "    return aa"
   ]
  },
  {
   "cell_type": "code",
   "execution_count": 1735,
   "metadata": {},
   "outputs": [
    {
     "name": "stdout",
     "output_type": "stream",
     "text": [
      "\t-0.4506\table           \t\t1.7959\tkoresh         \n",
      "\t-0.4477\tthank          \t\t1.5835\tkent           \n",
      "\t-0.4299\tright          \t\t1.4974\tchristian      \n",
      "\t-0.4231\tyear           \t\t1.4440\tcritus         \n",
      "\t-0.4130\tbest           \t\t1.4424\tlunacy         \n",
      "\t-0.3874\tproblem        \t\t1.4419\tcockroaches    \n",
      "\t-0.3858\tidea           \t\t1.3246\tjesus          \n",
      "\t-0.3847\tclaim objective\t\t1.1533\tobjective      \n",
      "\t-0.3803\tatheist        \t\t1.0925\tmorality       \n",
      "\t-0.3706\tuse            \t\t1.0891\trosicrucian    \n",
      "\t-0.3610\tstuff delete   \t\t1.0865\tchristians     \n",
      "\t-0.3605\twork           \t\t1.0703\tamorc          \n",
      "\t-0.3472\tresurrection   \t\t1.0678\tcheer kent     \n",
      "\t-0.3470\tdrive          \t\t1.0022\tignorance strength\n",
      "\t-0.3452\tinformation    \t\t0.9603\tignorance      \n",
      "\t-0.3321\tspace          \t\t0.9571\tobjective morality\n",
      "\t-0.3238\tfile           \t\t0.9204\tcommandment    \n",
      "\t-0.3197\tuniversity     \t\t0.9136\tthou           \n",
      "\t-0.3168\tcourse         \t\t0.9124\tgod            \n",
      "\t-0.3136\tjam            \t\t0.9006\tfbi            \n",
      "\t-0.3089\tnew            \t\t0.8822\tbible          \n",
      "\t-0.3079\tpeace          \t\t0.8490\tparadise       \n",
      "\t-0.3064\tprogram        \t\t0.8078\t666            \n",
      "\t-0.3045\ttrust          \t\t0.7905\tultrix steve   \n",
      "\t-0.3036\thell           \t\t0.7905\trun ultrix steve\n",
      "\t-0.3028\tlike           \t\t0.7905\trun ultrix     \n",
      "\t-0.3020\tsell           \t\t0.7860\tquote bite argument\n",
      "\t-0.3019\tisrael         \t\t0.7860\tquote bite     \n",
      "\t-0.3010\tfree           \t\t0.7860\tbite argument  \n",
      "\t-0.3005\tgame           \t\t0.7529\tmalcolm        \n"
     ]
    }
   ],
   "source": [
    "aa = show_most_informative_features(vectorizer, clf, n = 30)"
   ]
  },
  {
   "cell_type": "markdown",
   "metadata": {},
   "source": [
    "- LinearSVC\n",
    "\n",
    "#what if l1,l2 or ...loss?"
   ]
  },
  {
   "cell_type": "code",
   "execution_count": 120,
   "metadata": {},
   "outputs": [],
   "source": [
    "%%time\n",
    "C_values = [ 0.05, 0.1, 0.15 ,0.2, 0.3, 0.4, 0.5, 0.6, 0.8, 1.0, 2.0, 5.0, 10.0, 20.0]\n",
    "\n",
    "for c in C_values:\n",
    "    f_el = \"LinearSVC\"\n",
    "    s_el,t_el,_ = classify_and_score(LinearSVC(C=c,random_state=seed,max_iter = 10e3,class_weight = 'balanced'), \n",
    "                                   vectorised_train_documents, \n",
    "                           vectorised_test_documents, y_train, y_test)\n",
    "    f0_el = \"C = \" + str(c)\n",
    "\n",
    "    results_df = results_df.append({'Algorithm':f_el, 'Train_score':s_el,\n",
    "                                    'Test_score':t_el, 'parameters':f0_el},ignore_index=True)"
   ]
  },
  {
   "cell_type": "markdown",
   "metadata": {},
   "source": [
    "- SVC Kernel Poly"
   ]
  },
  {
   "cell_type": "code",
   "execution_count": 128,
   "metadata": {},
   "outputs": [
    {
     "name": "stderr",
     "output_type": "stream",
     "text": [
      "100%|███████████████████████████████████████████████████████████████████████████████████| 3/3 [07:12<00:00, 138.94s/it]\n"
     ]
    }
   ],
   "source": [
    "%%time\n",
    "C_values = [ 0.05, 0.1, 0.15 ,0.2, 0.3, 0.4, 0.5, 0.6, 0.8, 1.0, 2.0, 5.0, 10.0, 20.0, 40.0, 60.0, 100.0]\n",
    "\n",
    "for c in tqdm(C_values):\n",
    "    f_el = \"SVC_poly\"\n",
    "    s_el,t_el,_ = classify_and_score(SVC(kernel='poly',gamma='scale',C=c,random_state=seed,class_weight = 'balanced'), \n",
    "                                   vectorised_train_documents, vectorised_test_documents, y_train, y_test)\n",
    "    f0_el = \"C = \" + str(c)\n",
    "\n",
    "    results_df = results_df.append({'Algorithm':f_el, 'Train_score':s_el,\n",
    "                                    'Test_score':t_el, 'parameters':f0_el},ignore_index=True)"
   ]
  },
  {
   "cell_type": "markdown",
   "metadata": {},
   "source": [
    "- SVC Kernel Sigmoid and RBF"
   ]
  },
  {
   "cell_type": "code",
   "execution_count": null,
   "metadata": {},
   "outputs": [],
   "source": [
    "kernel = ['rbf','sigmoid']\n",
    "C_values = [ 0.05, 0.1, 0.15 ,0.2, 0.4, 0.5,  0.8, 1.0, 2.0, 5.0, 10.0]\n",
    "\n",
    "for kern in tqdm(kernels):\n",
    "    for c in tqdm(C_values):\n",
    "        f_el = \"SVC_\" + kern\n",
    "        s_el,t_el,_ = classify_and_score(SVC(kernel=kern,gamma='scale',C=c,random_state=seed,class_weight = 'balanced'), \n",
    "                                       vectorised_train_documents, vectorised_test_documents, y_train, y_test)\n",
    "        f0_el = \"C = \" + str(c) + \" Kernel = \" + kern\n",
    "\n",
    "        results_df = results_df.append({'Algorithm':f_el, 'Train_score':s_el,\n",
    "                                        'Test_score':t_el, 'parameters':f0_el},ignore_index=True)"
   ]
  },
  {
   "cell_type": "code",
   "execution_count": 190,
   "metadata": {},
   "outputs": [
    {
     "data": {
      "text/html": [
       "<div>\n",
       "<style scoped>\n",
       "    .dataframe tbody tr th:only-of-type {\n",
       "        vertical-align: middle;\n",
       "    }\n",
       "\n",
       "    .dataframe tbody tr th {\n",
       "        vertical-align: top;\n",
       "    }\n",
       "\n",
       "    .dataframe thead th {\n",
       "        text-align: right;\n",
       "    }\n",
       "</style>\n",
       "<table border=\"1\" class=\"dataframe\">\n",
       "  <thead>\n",
       "    <tr style=\"text-align: right;\">\n",
       "      <th></th>\n",
       "      <th>Algorithm</th>\n",
       "      <th>Train_score</th>\n",
       "      <th>Test_score_cv</th>\n",
       "      <th>parameters</th>\n",
       "    </tr>\n",
       "  </thead>\n",
       "  <tbody>\n",
       "    <tr>\n",
       "      <th>29</th>\n",
       "      <td>MultinomialNB</td>\n",
       "      <td>0.948619</td>\n",
       "      <td>0.673413</td>\n",
       "      <td>alpha = 0.07</td>\n",
       "    </tr>\n",
       "  </tbody>\n",
       "</table>\n",
       "</div>"
      ],
      "text/plain": [
       "        Algorithm  Train_score  Test_score_cv    parameters\n",
       "29  MultinomialNB     0.948619       0.673413  alpha = 0.07"
      ]
     },
     "execution_count": 190,
     "metadata": {},
     "output_type": "execute_result"
    }
   ],
   "source": [
    "results_df[results_df.Test_score ==  results_df.Test_score.max()]"
   ]
  },
  {
   "cell_type": "code",
   "execution_count": 242,
   "metadata": {},
   "outputs": [],
   "source": [
    "results_df.to_csv(\"results_df.csv\", sep=';', encoding='utf-8',index = False, header = True)"
   ]
  },
  {
   "cell_type": "code",
   "execution_count": 240,
   "metadata": {},
   "outputs": [
    {
     "data": {
      "text/plain": [
       "[<matplotlib.lines.Line2D at 0x216632cf7f0>]"
      ]
     },
     "execution_count": 240,
     "metadata": {},
     "output_type": "execute_result"
    },
    {
     "data": {
      "image/png": "[encoded data removed]",
      "text/plain": [
       "<Figure size 432x288 with 1 Axes>"
      ]
     },
     "metadata": {},
     "output_type": "display_data"
    }
   ],
   "source": [
    "#sns.lineplot(x=results_df.Test_score, hue=\"Algorithm\", lw=1, data=results_df)\n",
    "#ax = sns.lineplot(y = 'Test_score',data = results_df)\n",
    "#sns.lineplot(x = results_df.Test_score,data = results_df)\n",
    "#plt.plot(results_df[results_df.Algorithm == 'SVC_poly']['Test_score'])"
   ]
  },
  {
   "cell_type": "code",
   "execution_count": 1479,
   "metadata": {},
   "outputs": [],
   "source": [
    "#drop svc results\n",
    "results_df = results_df[results_df.Algorithm !='SGD']"
   ]
  },
  {
   "cell_type": "code",
   "execution_count": 1720,
   "metadata": {},
   "outputs": [],
   "source": [
    "sgd_clf = SGDClassifier(loss = 'modified_huber', penalty = 'elasticnet',\n",
    "                        alpha = 0.0001, l1_ratio = 0.01,\n",
    "                        max_iter = 1000, tol = 1e-4,\n",
    "                        n_jobs = -1, random_state = seed,\n",
    "                        learning_rate = 'optimal', #adaptive - no profit\n",
    "                        class_weight = 'balanced', shuffle = True,\n",
    "                        n_iter_no_change = 100, early_stopping = True\n",
    "             )"
   ]
  },
  {
   "cell_type": "code",
   "execution_count": 1721,
   "metadata": {},
   "outputs": [
    {
     "name": "stderr",
     "output_type": "stream",
     "text": [
      "\n",
      "\n",
      "  0%|                                                                                            | 0/5 [00:00<?, ?it/s]\n",
      "\n",
      " 20%|████████████████▊                                                                   | 1/5 [01:13<04:55, 73.93s/it]\n",
      "\n",
      " 40%|█████████████████████████████████▌                                                  | 2/5 [02:51<04:03, 81.07s/it]\n",
      "\n",
      " 60%|██████████████████████████████████████████████████▍                                 | 3/5 [04:51<03:05, 92.80s/it]\n",
      "\n",
      " 80%|██████████████████████████████████████████████████████████████████▍                | 4/5 [07:01<01:43, 103.86s/it]\n",
      "\n",
      "100%|███████████████████████████████████████████████████████████████████████████████████| 5/5 [08:38<00:00, 101.73s/it]\n",
      "\n"
     ]
    }
   ],
   "source": [
    "losses = ['hinge','log','modified_huber','squared_hinge','perceptron']\n",
    "penalties = ['l1','l2','elasticnet']\n",
    "alphas = [0.0001, 0.001, 0.01, 0.1, 0.5, 1, 3 , 5]\n",
    "l1_ratios = [0.0001, 0.001, 0.01, 0.1, 0.3, 0.5, 0.7, 0.9, 1]\n",
    "\n",
    "for ls in tqdm(losses):\n",
    "    f_el = \"SGD\"\n",
    "    sgd_clf.loss = ls\n",
    "    s_el,t_el,_ = classify_and_score(sgd_clf, vectorised_train_documents, \n",
    "                                     vectorised_test_documents, y_train, y_test)\n",
    "    f0_el = \"loss = \" + ls\n",
    "    results_df = results_df.append({'Algorithm':f_el, 'Train_score':s_el,\n",
    "                                    'Test_score':t_el, 'parameters':f0_el},ignore_index=True)\n",
    "'''for alp in tqdm(alphas):\n",
    "    for l1 in tqdm(l1_ratios):\n",
    "        f_el = \"SGD\"\n",
    "        sgd_clf.alpha = alp\n",
    "        sgd_clf.l1_ratio = l1\n",
    "        s_el,t_el,_ = classify_and_score(sgd_clf, vectorised_train_documents, \n",
    "                                         vectorised_test_documents, y_train, y_test)\n",
    "        f0_el = \"alpha = \" + str(alp) + \" l1_ratio = \" + str(l1)\n",
    "        results_df = results_df.append({'Algorithm':f_el, 'Train_score':s_el,\n",
    "                                        'Test_score':t_el, 'parameters':f0_el},ignore_index=True)\n",
    "''';\n",
    "\n",
    "# compare hinge loss == linear SVM\n",
    "# compare other different kernels"
   ]
  },
  {
   "cell_type": "code",
   "execution_count": 1722,
   "metadata": {},
   "outputs": [
    {
     "data": {
      "text/html": [
       "<div>\n",
       "<style scoped>\n",
       "    .dataframe tbody tr th:only-of-type {\n",
       "        vertical-align: middle;\n",
       "    }\n",
       "\n",
       "    .dataframe tbody tr th {\n",
       "        vertical-align: top;\n",
       "    }\n",
       "\n",
       "    .dataframe thead th {\n",
       "        text-align: right;\n",
       "    }\n",
       "</style>\n",
       "<table border=\"1\" class=\"dataframe\">\n",
       "  <thead>\n",
       "    <tr style=\"text-align: right;\">\n",
       "      <th></th>\n",
       "      <th>Algorithm</th>\n",
       "      <th>Train_score</th>\n",
       "      <th>Test_score</th>\n",
       "      <th>parameters</th>\n",
       "    </tr>\n",
       "  </thead>\n",
       "  <tbody>\n",
       "    <tr>\n",
       "      <th>51</th>\n",
       "      <td>SGD</td>\n",
       "      <td>0.949708</td>\n",
       "      <td>0.696495</td>\n",
       "      <td>loss = hinge</td>\n",
       "    </tr>\n",
       "    <tr>\n",
       "      <th>52</th>\n",
       "      <td>SGD</td>\n",
       "      <td>0.936716</td>\n",
       "      <td>0.669145</td>\n",
       "      <td>loss = log</td>\n",
       "    </tr>\n",
       "    <tr>\n",
       "      <th>53</th>\n",
       "      <td>SGD</td>\n",
       "      <td>0.951388</td>\n",
       "      <td>0.697823</td>\n",
       "      <td>loss = modified_huber</td>\n",
       "    </tr>\n",
       "    <tr>\n",
       "      <th>54</th>\n",
       "      <td>SGD</td>\n",
       "      <td>0.951388</td>\n",
       "      <td>0.697690</td>\n",
       "      <td>loss = squared_hinge</td>\n",
       "    </tr>\n",
       "    <tr>\n",
       "      <th>55</th>\n",
       "      <td>SGD</td>\n",
       "      <td>0.935036</td>\n",
       "      <td>0.602629</td>\n",
       "      <td>loss = perceptron</td>\n",
       "    </tr>\n",
       "  </tbody>\n",
       "</table>\n",
       "</div>"
      ],
      "text/plain": [
       "   Algorithm  Train_score  Test_score             parameters\n",
       "51       SGD     0.949708    0.696495           loss = hinge\n",
       "52       SGD     0.936716    0.669145             loss = log\n",
       "53       SGD     0.951388    0.697823  loss = modified_huber\n",
       "54       SGD     0.951388    0.697690   loss = squared_hinge\n",
       "55       SGD     0.935036    0.602629      loss = perceptron"
      ]
     },
     "execution_count": 1722,
     "metadata": {},
     "output_type": "execute_result"
    }
   ],
   "source": [
    "results_df.tail()"
   ]
  },
  {
   "cell_type": "code",
   "execution_count": 1723,
   "metadata": {},
   "outputs": [],
   "source": [
    "sgd_clf.loss = 'modified_huber'\n",
    "#alpha = 0.0001 l1_ratio = 0.01"
   ]
  },
  {
   "cell_type": "code",
   "execution_count": 1724,
   "metadata": {},
   "outputs": [
    {
     "data": {
      "text/plain": [
       "SGDClassifier(alpha=0.0001, average=False, class_weight='balanced',\n",
       "       early_stopping=True, epsilon=0.1, eta0=0.0, fit_intercept=True,\n",
       "       l1_ratio=0.01, learning_rate='optimal', loss='modified_huber',\n",
       "       max_iter=1000, n_iter=None, n_iter_no_change=100, n_jobs=-1,\n",
       "       penalty='elasticnet', power_t=0.5, random_state=321, shuffle=True,\n",
       "       tol=0.0001, validation_fraction=0.1, verbose=0, warm_start=False)"
      ]
     },
     "execution_count": 1724,
     "metadata": {},
     "output_type": "execute_result"
    }
   ],
   "source": [
    "sgd_clf"
   ]
  },
  {
   "cell_type": "code",
   "execution_count": 1728,
   "metadata": {},
   "outputs": [
    {
     "name": "stdout",
     "output_type": "stream",
     "text": [
      "                          precision    recall  f1-score   support\n",
      "\n",
      "             alt.atheism       0.54      0.45      0.49       319\n",
      "           comp.graphics       0.68      0.68      0.68       389\n",
      " comp.os.ms-windows.misc       0.65      0.62      0.63       394\n",
      "comp.sys.ibm.pc.hardware       0.67      0.66      0.66       392\n",
      "   comp.sys.mac.hardware       0.70      0.68      0.69       385\n",
      "          comp.windows.x       0.80      0.76      0.78       395\n",
      "            misc.forsale       0.71      0.79      0.75       390\n",
      "               rec.autos       0.78      0.71      0.74       396\n",
      "         rec.motorcycles       0.84      0.71      0.77       398\n",
      "      rec.sport.baseball       0.54      0.84      0.66       397\n",
      "        rec.sport.hockey       0.87      0.90      0.88       399\n",
      "               sci.crypt       0.81      0.74      0.77       396\n",
      "         sci.electronics       0.67      0.59      0.63       393\n",
      "                 sci.med       0.81      0.80      0.80       396\n",
      "               sci.space       0.76      0.77      0.76       394\n",
      "  soc.religion.christian       0.58      0.86      0.69       398\n",
      "      talk.politics.guns       0.57      0.68      0.62       364\n",
      "   talk.politics.mideast       0.83      0.77      0.80       376\n",
      "      talk.politics.misc       0.58      0.44      0.50       310\n",
      "      talk.religion.misc       0.59      0.22      0.32       251\n",
      "\n",
      "               micro avg       0.70      0.70      0.70      7532\n",
      "               macro avg       0.70      0.68      0.68      7532\n",
      "            weighted avg       0.70      0.70      0.69      7532\n",
      "\n",
      "Confusion matrix, without normalization\n",
      "None\n"
     ]
    },
    {
     "data": {
      "image/png": "[encoded data removed]",
      "text/plain": [
       "<Figure size 1440x864 with 2 Axes>"
      ]
     },
     "metadata": {},
     "output_type": "display_data"
    }
   ],
   "source": [
    "_,_,clf =  classify_and_score(sgd_clf, vectorised_train_documents, \n",
    "                                        vectorised_test_documents, y_train, y_test)\n",
    "\n",
    "pred_test = clf.predict(vectorised_test_documents)\n",
    "print(classification_report(y_test,pred_test,target_names = newsgroups_all.target_names))\n",
    "\n",
    "cnf_matrix = confusion_matrix(y_test, pred_test)\n",
    "print(plot_confusion_matrix(cnf_matrix, classes = newsgroups_all.target_names))\n"
   ]
  },
  {
   "cell_type": "markdown",
   "metadata": {},
   "source": [
    "GaussianNB не использовался, т.к. на вход этому алгоритму требуется dense, а не sparce-матрица.\n",
    "При выполнении преобразования todense()/toarray() потребление памяти существенно возросло и привело к тому, что массив не помещяется в память."
   ]
  },
  {
   "cell_type": "code",
   "execution_count": null,
   "metadata": {},
   "outputs": [],
   "source": [
    "\"\"\"clf = GaussianNB()\n",
    "clf.fit(vectorised_train_documents.toarray(), y_train)\n",
    "pred = clf.predict(vectorised_test_documents.toarray())\n",
    "f1_score(y_test, pred, average='micro')\"\"\";"
   ]
  },
  {
   "cell_type": "markdown",
   "metadata": {},
   "source": [
    "#### Classfication. Without apriory knoweledge."
   ]
  },
  {
   "cell_type": "markdown",
   "metadata": {},
   "source": [
    "Your task is to cluster news without prior knowing of original labels. \n",
    "And then evaluate performance of your clustering approach: \n",
    "1) using original labels \n",
    "2) without prior knowledge of labels.\n",
    "\n",
    "You also may use dimension reduction techniques for visualization purposes, which can give you some insights about data structure.\n",
    "\n",
    "Scoring:\n",
    "\n",
    "1) EDA - 2\n",
    "\n",
    "Text length histogram, words cloud, whatever...\n",
    "Dimension reduction and visualization\n",
    "TruncatedSVD\n",
    "T-SNE or UMAP.\n",
    "\n",
    "2) Clustering - 3\n",
    "\n",
    "K-means or MiniBatchKMeans\n",
    "DBSCAN or HDBSCANС.\n",
    "\n",
    "3) Performance evaluation -2.\n",
    "\n",
    "With prior knowledge of ground truth\n",
    "At least V-measure and adjusted mutual information\n",
    "Without prior knowledge of ground truth\n",
    "At least silhouette coefficient\n",
    "4) Topic modeling - 2\n",
    "\n",
    "Understand what's the difference between clustering, dimension reduction and topic modeling\n",
    "Try to use LDA Ссылки на внешний сайт.from Gensim and pyLDAvisСсылки на внешний сайт. for visualization"
   ]
  },
  {
   "cell_type": "markdown",
   "metadata": {},
   "source": [
    "В этом разделе попробуем классифицировать объекты без знания о принадлежности текстов к какому-либо классу.\n",
    "Для этого:\n",
    "- попробуем посмотреть на тексты без знания(EDA), об их принадлежности классам.\n",
    "- сократим размерность (TruncatedSVD)  и попробуем визуализировать структуру данных (T-SNE or UMAP).  \n",
    "- Попробуем выделить классы при помощи K-means or MiniBatchKMeans;DBSCAN or HDBSCANС."
   ]
  },
  {
   "cell_type": "code",
   "execution_count": 1451,
   "metadata": {},
   "outputs": [],
   "source": [
    "from sklearn.cluster import KMeans\n"
   ]
  },
  {
   "cell_type": "code",
   "execution_count": 1732,
   "metadata": {},
   "outputs": [
    {
     "data": {
      "text/plain": [
       "KMeans(algorithm='auto', copy_x=True, init='k-means++', max_iter=100,\n",
       "    n_clusters=2, n_init=1, n_jobs=-1, precompute_distances='auto',\n",
       "    random_state=None, tol=0.0001, verbose=0)"
      ]
     },
     "execution_count": 1732,
     "metadata": {},
     "output_type": "execute_result"
    }
   ],
   "source": [
    "k_clusters = 2 # Number of Centroids we want.\n",
    "model = KMeans(n_clusters=k_clusters, max_iter=100, n_init=1,n_jobs=-1)\n",
    "model.fit(vectorised_train_documents)"
   ]
  },
  {
   "cell_type": "code",
   "execution_count": 1733,
   "metadata": {},
   "outputs": [
    {
     "name": "stdout",
     "output_type": "stream",
     "text": [
      "Top terms per cluster:\n",
      "Cluster 0:\n"
     ]
    },
    {
     "data": {
      "text/plain": [
       "(None,)"
      ]
     },
     "execution_count": 1733,
     "metadata": {},
     "output_type": "execute_result"
    },
    {
     "name": "stdout",
     "output_type": "stream",
     "text": [
      " use\n"
     ]
    },
    {
     "data": {
      "text/plain": [
       "(None,)"
      ]
     },
     "execution_count": 1733,
     "metadata": {},
     "output_type": "execute_result"
    },
    {
     "name": "stdout",
     "output_type": "stream",
     "text": [
      " thank\n"
     ]
    },
    {
     "data": {
      "text/plain": [
       "(None,)"
      ]
     },
     "execution_count": 1733,
     "metadata": {},
     "output_type": "execute_result"
    },
    {
     "name": "stdout",
     "output_type": "stream",
     "text": [
      " know\n"
     ]
    },
    {
     "data": {
      "text/plain": [
       "(None,)"
      ]
     },
     "execution_count": 1733,
     "metadata": {},
     "output_type": "execute_result"
    },
    {
     "name": "stdout",
     "output_type": "stream",
     "text": [
      " like\n"
     ]
    },
    {
     "data": {
      "text/plain": [
       "(None,)"
      ]
     },
     "execution_count": 1733,
     "metadata": {},
     "output_type": "execute_result"
    },
    {
     "name": "stdout",
     "output_type": "stream",
     "text": [
      " look\n"
     ]
    },
    {
     "data": {
      "text/plain": [
       "(None,)"
      ]
     },
     "execution_count": 1733,
     "metadata": {},
     "output_type": "execute_result"
    },
    {
     "name": "stdout",
     "output_type": "stream",
     "text": [
      " work\n"
     ]
    },
    {
     "data": {
      "text/plain": [
       "(None,)"
      ]
     },
     "execution_count": 1733,
     "metadata": {},
     "output_type": "execute_result"
    },
    {
     "name": "stdout",
     "output_type": "stream",
     "text": [
      " think\n"
     ]
    },
    {
     "data": {
      "text/plain": [
       "(None,)"
      ]
     },
     "execution_count": 1733,
     "metadata": {},
     "output_type": "execute_result"
    },
    {
     "name": "stdout",
     "output_type": "stream",
     "text": [
      " drive\n"
     ]
    },
    {
     "data": {
      "text/plain": [
       "(None,)"
      ]
     },
     "execution_count": 1733,
     "metadata": {},
     "output_type": "execute_result"
    },
    {
     "name": "stdout",
     "output_type": "stream",
     "text": [
      " windows\n"
     ]
    },
    {
     "data": {
      "text/plain": [
       "(None,)"
      ]
     },
     "execution_count": 1733,
     "metadata": {},
     "output_type": "execute_result"
    },
    {
     "name": "stdout",
     "output_type": "stream",
     "text": [
      " run\n"
     ]
    },
    {
     "data": {
      "text/plain": [
       "(None,)"
      ]
     },
     "execution_count": 1733,
     "metadata": {},
     "output_type": "execute_result"
    },
    {
     "data": {
      "text/plain": [
       "<function print>"
      ]
     },
     "execution_count": 1733,
     "metadata": {},
     "output_type": "execute_result"
    },
    {
     "name": "stdout",
     "output_type": "stream",
     "text": [
      "Cluster 1:\n"
     ]
    },
    {
     "data": {
      "text/plain": [
       "(None,)"
      ]
     },
     "execution_count": 1733,
     "metadata": {},
     "output_type": "execute_result"
    },
    {
     "name": "stdout",
     "output_type": "stream",
     "text": [
      " people\n"
     ]
    },
    {
     "data": {
      "text/plain": [
       "(None,)"
      ]
     },
     "execution_count": 1733,
     "metadata": {},
     "output_type": "execute_result"
    },
    {
     "name": "stdout",
     "output_type": "stream",
     "text": [
      " say\n"
     ]
    },
    {
     "data": {
      "text/plain": [
       "(None,)"
      ]
     },
     "execution_count": 1733,
     "metadata": {},
     "output_type": "execute_result"
    },
    {
     "name": "stdout",
     "output_type": "stream",
     "text": [
      " think\n"
     ]
    },
    {
     "data": {
      "text/plain": [
       "(None,)"
      ]
     },
     "execution_count": 1733,
     "metadata": {},
     "output_type": "execute_result"
    },
    {
     "name": "stdout",
     "output_type": "stream",
     "text": [
      " know\n"
     ]
    },
    {
     "data": {
      "text/plain": [
       "(None,)"
      ]
     },
     "execution_count": 1733,
     "metadata": {},
     "output_type": "execute_result"
    },
    {
     "name": "stdout",
     "output_type": "stream",
     "text": [
      " make\n"
     ]
    },
    {
     "data": {
      "text/plain": [
       "(None,)"
      ]
     },
     "execution_count": 1733,
     "metadata": {},
     "output_type": "execute_result"
    },
    {
     "name": "stdout",
     "output_type": "stream",
     "text": [
      " time\n"
     ]
    },
    {
     "data": {
      "text/plain": [
       "(None,)"
      ]
     },
     "execution_count": 1733,
     "metadata": {},
     "output_type": "execute_result"
    },
    {
     "name": "stdout",
     "output_type": "stream",
     "text": [
      " like\n"
     ]
    },
    {
     "data": {
      "text/plain": [
       "(None,)"
      ]
     },
     "execution_count": 1733,
     "metadata": {},
     "output_type": "execute_result"
    },
    {
     "name": "stdout",
     "output_type": "stream",
     "text": [
      " god\n"
     ]
    },
    {
     "data": {
      "text/plain": [
       "(None,)"
      ]
     },
     "execution_count": 1733,
     "metadata": {},
     "output_type": "execute_result"
    },
    {
     "name": "stdout",
     "output_type": "stream",
     "text": [
      " use\n"
     ]
    },
    {
     "data": {
      "text/plain": [
       "(None,)"
      ]
     },
     "execution_count": 1733,
     "metadata": {},
     "output_type": "execute_result"
    },
    {
     "name": "stdout",
     "output_type": "stream",
     "text": [
      " right\n"
     ]
    },
    {
     "data": {
      "text/plain": [
       "(None,)"
      ]
     },
     "execution_count": 1733,
     "metadata": {},
     "output_type": "execute_result"
    },
    {
     "data": {
      "text/plain": [
       "<function print>"
      ]
     },
     "execution_count": 1733,
     "metadata": {},
     "output_type": "execute_result"
    },
    {
     "name": "stdout",
     "output_type": "stream",
     "text": [
      "\n",
      "\n",
      "Prediction\n",
      "[0]\n",
      "[1]\n"
     ]
    }
   ],
   "source": [
    "print(\"Top terms per cluster:\")\n",
    "order_centroids = model.cluster_centers_.argsort()[:, ::-1]\n",
    "terms = vectorizer.get_feature_names()\n",
    "for i in range(k_clusters):\n",
    "    print(\"Cluster %d:\" % i),\n",
    "    for ind in order_centroids[i, :10]:\n",
    "        print(' %s' % terms[ind]),\n",
    "    print\n",
    "print(\"\\n\")\n",
    "print(\"Prediction\")\n",
    "Y = vectorizer.transform([\"This Motorbike has the best chain\"])# Enter phrase to predict\n",
    "prediction = model.predict(Y)\n",
    "print(prediction)\n",
    "Y = vectorizer.transform([\"Turkey is close to Israel\"])\n",
    "prediction = model.predict(Y)\n",
    "print(prediction)\n"
   ]
  },
  {
   "cell_type": "code",
   "execution_count": null,
   "metadata": {},
   "outputs": [],
   "source": []
  },
  {
   "cell_type": "code",
   "execution_count": null,
   "metadata": {},
   "outputs": [],
   "source": []
  }
 ],
 "metadata": {
  "kernelspec": {
   "display_name": "Python 3",
   "language": "python",
   "name": "python3"
  },
  "language_info": {
   "codemirror_mode": {
    "name": "ipython",
    "version": 3
   },
   "file_extension": ".py",
   "mimetype": "text/x-python",
   "name": "python",
   "nbconvert_exporter": "python",
   "pygments_lexer": "ipython3",
   "version": "3.7.1"
  }
 },
 "nbformat": 4,
 "nbformat_minor": 2
}
